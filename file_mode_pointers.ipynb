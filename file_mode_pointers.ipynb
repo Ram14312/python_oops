{
 "cells": [
  {
   "cell_type": "code",
   "execution_count": 1,
   "id": "24e6c1e1",
   "metadata": {},
   "outputs": [],
   "source": [
    "#read plus mode (r+ means read and write i.e, read first and later write)\n",
    "f = open('text2.txt', 'r+')"
   ]
  },
  {
   "cell_type": "code",
   "execution_count": 2,
   "metadata": {},
   "outputs": [
    {
     "data": {
      "text/plain": [
       "'first line\\nsecond line \\nthird line \\n'"
      ]
     },
     "execution_count": 2,
     "metadata": {},
     "output_type": "execute_result"
    }
   ],
   "source": [
    "f.read()"
   ]
  },
  {
   "cell_type": "code",
   "execution_count": 3,
   "id": "aeaa404e",
   "metadata": {},
   "outputs": [
    {
     "data": {
      "text/plain": [
       "10"
      ]
     },
     "execution_count": 3,
     "metadata": {},
     "output_type": "execute_result"
    }
   ],
   "source": [
    "f.write('\\n new line')"
   ]
  },
  {
   "cell_type": "code",
   "execution_count": 4,
   "metadata": {},
   "outputs": [],
   "source": [
    "f.close()"
   ]
  },
  {
   "cell_type": "code",
   "execution_count": 5,
   "id": "094982e5",
   "metadata": {},
   "outputs": [],
   "source": [
    "# now if you notice the text2.file the result is appended at the end of the previous existing data\n",
    "\n",
    "#now let us try to use same operation without performing read first \n",
    "f = open('text2.txt', 'r+')\n"
   ]
  },
  {
   "cell_type": "code",
   "execution_count": 6,
   "metadata": {},
   "outputs": [
    {
     "data": {
      "text/plain": [
       "13"
      ]
     },
     "execution_count": 6,
     "metadata": {},
     "output_type": "execute_result"
    }
   ],
   "source": [
    "f.write('zeroth line \\n')"
   ]
  },
  {
   "cell_type": "code",
   "execution_count": null,
   "id": "f0e25e97",
   "metadata": {},
   "outputs": [],
   "source": [
    "f.close()\n",
    "\n",
    "#now if we check the result in text2.txt file  we can able to notice that the new data is append at the beginning \n",
    "#why it is happening"
   ]
  },
  {
   "cell_type": "code",
   "execution_count": 8,
   "id": "403ce3e6",
   "metadata": {},
   "outputs": [],
   "source": [
    "#here we can able to notice the concept called as pointers\n",
    "\n",
    "#so when we use read + operation it will read first the data i.e the pointer moves from first index to last index\n",
    "#in existing data and when we call right function , the pointer will start after the last index of previous \n",
    "\n",
    "#so that why we can able to notice that when we perform read first the data is appended at the ended\n",
    "#so if write is performed at the first means it will override the data"
   ]
  },
  {
   "cell_type": "code",
   "execution_count": 9,
   "id": "0f147247",
   "metadata": {},
   "outputs": [],
   "source": [
    "# we can perform r+ operation for only the files which were already present otherwise since the read operation\n",
    "#has the first priority so it will throw an error\n",
    "\n",
    "#so now let us check how to handle this pointers\n",
    "\n",
    "f = open('text2.txt', 'r+')\n",
    "# now with the hwlp of seek function we can start the pointer at exact index (we can adjust the pointer)"
   ]
  },
  {
   "cell_type": "code",
   "execution_count": 10,
   "metadata": {},
   "outputs": [
    {
     "data": {
      "text/plain": [
       "6"
      ]
     },
     "execution_count": 10,
     "metadata": {},
     "output_type": "execute_result"
    }
   ],
   "source": [
    "f.seek(6)"
   ]
  },
  {
   "cell_type": "code",
   "execution_count": 11,
   "id": "42b8b6b0",
   "metadata": {},
   "outputs": [
    {
     "data": {
      "text/plain": [
       "' line \\ncond line \\nthird line \\n\\n new line'"
      ]
     },
     "execution_count": 11,
     "metadata": {},
     "output_type": "execute_result"
    }
   ],
   "source": [
    "#now if we try to read the file then the pointer will start at 6th index including spaces as well\n",
    "f.read()"
   ]
  },
  {
   "cell_type": "code",
   "execution_count": null,
   "id": "bd69f7fb",
   "metadata": {},
   "outputs": [
    {
     "data": {
      "text/plain": [
       "''"
      ]
     },
     "execution_count": 12,
     "metadata": {},
     "output_type": "execute_result"
    }
   ],
   "source": [
    "f.read()\n",
    "# so once again if we try to read the file here the pointer is available at very last so we get result as empty\n"
   ]
  },
  {
   "cell_type": "code",
   "execution_count": 13,
   "id": "f573435e",
   "metadata": {},
   "outputs": [
    {
     "data": {
      "text/plain": [
       "50"
      ]
     },
     "execution_count": 13,
     "metadata": {},
     "output_type": "execute_result"
    }
   ],
   "source": [
    "# we have some other function is called as tell()\n",
    "#used to find out the location of the pointer\n",
    "f.tell()\n"
   ]
  },
  {
   "cell_type": "code",
   "execution_count": 14,
   "id": "eb9cb5de",
   "metadata": {},
   "outputs": [],
   "source": [
    "f.close()"
   ]
  },
  {
   "cell_type": "code",
   "execution_count": 15,
   "id": "a641ab08",
   "metadata": {},
   "outputs": [],
   "source": [
    "f = open('text2.txt', 'r+')"
   ]
  },
  {
   "cell_type": "code",
   "execution_count": 16,
   "id": "0036c675",
   "metadata": {},
   "outputs": [
    {
     "data": {
      "text/plain": [
       "6"
      ]
     },
     "execution_count": 16,
     "metadata": {},
     "output_type": "execute_result"
    }
   ],
   "source": [
    "f.seek(6)"
   ]
  },
  {
   "cell_type": "code",
   "execution_count": 17,
   "id": "2612928d",
   "metadata": {},
   "outputs": [
    {
     "data": {
      "text/plain": [
       "6"
      ]
     },
     "execution_count": 17,
     "metadata": {},
     "output_type": "execute_result"
    }
   ],
   "source": [
    "#now if we run the function tell() it will tells about the pointer location\n",
    "f.tell()"
   ]
  },
  {
   "cell_type": "code",
   "execution_count": 19,
   "id": "4db81d34",
   "metadata": {},
   "outputs": [],
   "source": [
    "#we have another mode also present like write + mode , i.e write first preference later read\n",
    "#only difference in r+ if file is not present means it will through an error here it wont\n",
    "f = open('text6.txt', 'w+')\n"
   ]
  },
  {
   "cell_type": "code",
   "execution_count": 20,
   "id": "49748602",
   "metadata": {},
   "outputs": [
    {
     "data": {
      "text/plain": [
       "39"
      ]
     },
     "execution_count": 20,
     "metadata": {},
     "output_type": "execute_result"
    }
   ],
   "source": [
    "f.write(\"this is a new file with name text6 file\")"
   ]
  },
  {
   "cell_type": "code",
   "execution_count": 21,
   "id": "77dc897f",
   "metadata": {},
   "outputs": [],
   "source": [
    "f.close()"
   ]
  },
  {
   "cell_type": "code",
   "execution_count": 22,
   "id": "73459785",
   "metadata": {},
   "outputs": [],
   "source": [
    "#similarly we have a+ mode as well\n",
    "#i.e, append and read\n",
    "f = open('text6.txt', 'a+')"
   ]
  },
  {
   "cell_type": "code",
   "execution_count": 23,
   "id": "961b6f0e",
   "metadata": {},
   "outputs": [
    {
     "data": {
      "text/plain": [
       "''"
      ]
     },
     "execution_count": 23,
     "metadata": {},
     "output_type": "execute_result"
    }
   ],
   "source": [
    "f.read()"
   ]
  },
  {
   "cell_type": "code",
   "execution_count": 24,
   "id": "23bc1692",
   "metadata": {},
   "outputs": [
    {
     "data": {
      "text/plain": [
       "39"
      ]
     },
     "execution_count": 24,
     "metadata": {},
     "output_type": "execute_result"
    }
   ],
   "source": [
    "f.tell()"
   ]
  },
  {
   "cell_type": "code",
   "execution_count": 25,
   "id": "00f47a8c",
   "metadata": {},
   "outputs": [
    {
     "data": {
      "text/plain": [
       "0"
      ]
     },
     "execution_count": 25,
     "metadata": {},
     "output_type": "execute_result"
    }
   ],
   "source": [
    "f.seek(0)"
   ]
  },
  {
   "cell_type": "code",
   "execution_count": 26,
   "id": "34f3a33b",
   "metadata": {},
   "outputs": [
    {
     "data": {
      "text/plain": [
       "'this is a new file with name text6 file'"
      ]
     },
     "execution_count": 26,
     "metadata": {},
     "output_type": "execute_result"
    }
   ],
   "source": [
    "f.read()"
   ]
  },
  {
   "cell_type": "code",
   "execution_count": 27,
   "id": "c8b2e5fd",
   "metadata": {},
   "outputs": [],
   "source": [
    "#in python we have another type of file is known as binary file\n",
    "#with the help of this file we can able to perform serialization and de-serialization\n",
    "# serialization means converting readable data to binary format data\n",
    "# deserialization means converting binary data to human readable data\n",
    "f = open('text7.txt', 'wb')"
   ]
  },
  {
   "cell_type": "code",
   "execution_count": 28,
   "id": "e882b321",
   "metadata": {},
   "outputs": [
    {
     "data": {
      "text/plain": [
       "3"
      ]
     },
     "execution_count": 28,
     "metadata": {},
     "output_type": "execute_result"
    }
   ],
   "source": [
    "f.write(b'\\x00\\x01\\x02')"
   ]
  },
  {
   "cell_type": "code",
   "execution_count": null,
   "id": "4bb69b1d",
   "metadata": {},
   "outputs": [],
   "source": [
    "f.close()\n",
    "\n",
    "#here we can able to see some binary data the process is called as serialization"
   ]
  },
  {
   "cell_type": "code",
   "execution_count": 31,
   "id": "fa239119",
   "metadata": {},
   "outputs": [
    {
     "data": {
      "text/plain": [
       "14"
      ]
     },
     "execution_count": 31,
     "metadata": {},
     "output_type": "execute_result"
    }
   ],
   "source": [
    "f = open('text7.txt', 'wb')\n",
    "f.write(b'my name is ram')"
   ]
  },
  {
   "cell_type": "code",
   "execution_count": 32,
   "id": "f1e0d5a7",
   "metadata": {},
   "outputs": [],
   "source": [
    "f.close()"
   ]
  },
  {
   "cell_type": "code",
   "execution_count": 33,
   "id": "50e995fe",
   "metadata": {},
   "outputs": [],
   "source": [
    "f = open('test5.bin', 'wb')"
   ]
  },
  {
   "cell_type": "code",
   "execution_count": 34,
   "id": "91610b85",
   "metadata": {},
   "outputs": [
    {
     "data": {
      "text/plain": [
       "3"
      ]
     },
     "execution_count": 34,
     "metadata": {},
     "output_type": "execute_result"
    }
   ],
   "source": [
    "f.write(b'\\x00\\x01\\x02')"
   ]
  },
  {
   "cell_type": "code",
   "execution_count": 35,
   "metadata": {},
   "outputs": [],
   "source": [
    "f.close()"
   ]
  },
  {
   "cell_type": "code",
   "execution_count": 36,
   "id": "9009c100",
   "metadata": {},
   "outputs": [],
   "source": [
    "f = open('test5.bin', 'rb')"
   ]
  },
  {
   "cell_type": "code",
   "execution_count": 37,
   "id": "617a21d1",
   "metadata": {},
   "outputs": [
    {
     "data": {
      "text/plain": [
       "b'\\x00\\x01\\x02'"
      ]
     },
     "execution_count": 37,
     "metadata": {},
     "output_type": "execute_result"
    }
   ],
   "source": [
    "f.read()"
   ]
  },
  {
   "cell_type": "code",
   "execution_count": null,
   "id": "8618492c",
   "metadata": {},
   "outputs": [],
   "source": []
  },
  {
   "cell_type": "code",
   "execution_count": null,
   "id": "f12d11f4",
   "metadata": {},
   "outputs": [],
   "source": []
  },
  {
   "cell_type": "code",
   "execution_count": null,
   "id": "38acec4e",
   "metadata": {},
   "outputs": [],
   "source": []
  }
 ],
 "metadata": {
  "kernelspec": {
   "display_name": "Python 3",
   "language": "python",
   "name": "python3"
  },
  "language_info": {
   "codemirror_mode": {
    "name": "ipython",
    "version": 3
   },
   "file_extension": ".py",
   "mimetype": "text/x-python",
   "name": "python",
   "nbconvert_exporter": "python",
   "pygments_lexer": "ipython3",
   "version": "3.13.2"
  }
 },
 "nbformat": 4,
 "nbformat_minor": 5
}
