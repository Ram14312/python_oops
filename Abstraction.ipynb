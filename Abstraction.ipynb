{
 "cells": [
  {
   "cell_type": "code",
   "execution_count": 1,
   "id": "c76b5969",
   "metadata": {},
   "outputs": [],
   "source": [
    "#Abstraction\n",
    "#abstraction is nothing but a kind of creatinga skeleton which will be eventually implemented by someone else maybe in later stage\n",
    "#abc (abstract base class)\n",
    "\n",
    "from abc import ABC, abstractmethod"
   ]
  },
  {
   "cell_type": "code",
   "execution_count": 2,
   "id": "47c6c4b0",
   "metadata": {},
   "outputs": [],
   "source": [
    "#so here we are creating abstract base class with skeleton mentor so the implementation ont be there for the skeleton\n",
    "class mentor(ABC):\n",
    "    \n",
    "    @abstractmethod\n",
    "    def teach(self):\n",
    "        pass\n",
    "\n",
    "    @abstractmethod\n",
    "    def mentor(self):\n",
    "        pass\n",
    " \n",
    "    @abstractmethod\n",
    "    def course(self):\n",
    "        pass"
   ]
  },
  {
   "cell_type": "code",
   "execution_count": 5,
   "metadata": {},
   "outputs": [],
   "source": [
    "#with this class we can prvide the implementations of the abstract methods\n",
    "#if we use abc class then we need to implement all the abstract methods otherwise will get an error\n",
    "class euronmentor(mentor):\n",
    "\n",
    "    def teach(self):\n",
    "        return  \"this will return way of teaching\"\n",
    "    \n",
    "    def mentor(self):\n",
    "        return \"this will provide details about mentor\"\n",
    "    \n",
    "    def course(self):\n",
    "        return \"this will provide details about couse\""
   ]
  },
  {
   "cell_type": "code",
   "execution_count": 4,
   "id": "94ee474b",
   "metadata": {},
   "outputs": [
    {
     "ename": "TypeError",
     "evalue": "Can't instantiate abstract class euronmentor without an implementation for abstract methods 'course', 'mentor'",
     "output_type": "error",
     "traceback": [
      "\u001b[31m---------------------------------------------------------------------------\u001b[39m",
      "\u001b[31mTypeError\u001b[39m                                 Traceback (most recent call last)",
      "\u001b[36mCell\u001b[39m\u001b[36m \u001b[39m\u001b[32mIn[4]\u001b[39m\u001b[32m, line 1\u001b[39m\n\u001b[32m----> \u001b[39m\u001b[32m1\u001b[39m e = \u001b[43meuronmentor\u001b[49m\u001b[43m(\u001b[49m\u001b[43m)\u001b[49m\n\u001b[32m      2\u001b[39m e.mentor()\n",
      "\u001b[31mTypeError\u001b[39m: Can't instantiate abstract class euronmentor without an implementation for abstract methods 'course', 'mentor'"
     ]
    }
   ],
   "source": [
    "e = euronmentor()\n",
    "e.mentor()"
   ]
  },
  {
   "cell_type": "code",
   "execution_count": 6,
   "metadata": {},
   "outputs": [
    {
     "data": {
      "text/plain": [
       "'this will provide details about mentor'"
      ]
     },
     "execution_count": 6,
     "metadata": {},
     "output_type": "execute_result"
    }
   ],
   "source": [
    "e = euronmentor()\n",
    "e.mentor()"
   ]
  },
  {
   "cell_type": "code",
   "execution_count": null,
   "id": "47187a88",
   "metadata": {},
   "outputs": [
    {
     "ename": "TypeError",
     "evalue": "Can't instantiate abstract class mentor without an implementation for abstract methods 'course', 'mentor', 'teach'",
     "output_type": "error",
     "traceback": [
      "\u001b[31m---------------------------------------------------------------------------\u001b[39m",
      "\u001b[31mTypeError\u001b[39m                                 Traceback (most recent call last)",
      "\u001b[36mCell\u001b[39m\u001b[36m \u001b[39m\u001b[32mIn[7]\u001b[39m\u001b[32m, line 1\u001b[39m\n\u001b[32m----> \u001b[39m\u001b[32m1\u001b[39m m = \u001b[43mmentor\u001b[49m\u001b[43m(\u001b[49m\u001b[43m)\u001b[49m\n",
      "\u001b[31mTypeError\u001b[39m: Can't instantiate abstract class mentor without an implementation for abstract methods 'course', 'mentor', 'teach'"
     ]
    }
   ],
   "source": [
    "m = mentor()\n",
    "\n",
    "#we cant able to instantiate the abstract base class whoever who can inherit can able to implement the methods"
   ]
  },
  {
   "cell_type": "code",
   "execution_count": 9,
   "metadata": {},
   "outputs": [],
   "source": [
    "#inside the abc we can provide normal method rather than abstract method\n",
    "class mentor(ABC):\n",
    "    \n",
    "    @abstractmethod\n",
    "    def teach(self):\n",
    "        pass\n",
    "\n",
    "    @abstractmethod\n",
    "    def mentor(self):\n",
    "        pass\n",
    " \n",
    "    @abstractmethod\n",
    "    def course(self):\n",
    "        pass\n",
    "\n",
    "    def welcome(self):\n",
    "        return \"welcome to the course\""
   ]
  },
  {
   "cell_type": "code",
   "execution_count": 11,
   "id": "ea073ae6",
   "metadata": {},
   "outputs": [
    {
     "ename": "TypeError",
     "evalue": "Can't instantiate abstract class mentor without an implementation for abstract methods 'course', 'mentor', 'teach'",
     "output_type": "error",
     "traceback": [
      "\u001b[31m---------------------------------------------------------------------------\u001b[39m",
      "\u001b[31mTypeError\u001b[39m                                 Traceback (most recent call last)",
      "\u001b[36mCell\u001b[39m\u001b[36m \u001b[39m\u001b[32mIn[11]\u001b[39m\u001b[32m, line 1\u001b[39m\n\u001b[32m----> \u001b[39m\u001b[32m1\u001b[39m m = \u001b[43mmentor\u001b[49m\u001b[43m(\u001b[49m\u001b[43m)\u001b[49m\n\u001b[32m      2\u001b[39m m.welcome()\n",
      "\u001b[31mTypeError\u001b[39m: Can't instantiate abstract class mentor without an implementation for abstract methods 'course', 'mentor', 'teach'"
     ]
    }
   ],
   "source": [
    "m = mentor()\n",
    "m.welcome()"
   ]
  },
  {
   "cell_type": "code",
   "execution_count": 13,
   "id": "c92b482f",
   "metadata": {},
   "outputs": [],
   "source": [
    "class euronmentor(mentor):\n",
    "\n",
    "    def teach(self):\n",
    "        return  \"this will return way of teaching\"\n",
    "    \n",
    "    def mentor(self):\n",
    "        return \"this will provide details about mentor\"\n",
    "    \n",
    "    def course(self):\n",
    "        return \"this will provide details about couse\""
   ]
  },
  {
   "cell_type": "code",
   "execution_count": 14,
   "id": "a0b2dfd7",
   "metadata": {},
   "outputs": [
    {
     "data": {
      "text/plain": [
       "'welcome to the course'"
      ]
     },
     "execution_count": 14,
     "metadata": {},
     "output_type": "execute_result"
    }
   ],
   "source": [
    "e = euronmentor()\n",
    "e.welcome()"
   ]
  }
 ],
 "metadata": {
  "kernelspec": {
   "display_name": "Python 3",
   "language": "python",
   "name": "python3"
  },
  "language_info": {
   "codemirror_mode": {
    "name": "ipython",
    "version": 3
   },
   "file_extension": ".py",
   "mimetype": "text/x-python",
   "name": "python",
   "nbconvert_exporter": "python",
   "pygments_lexer": "ipython3",
   "version": "3.13.2"
  }
 },
 "nbformat": 4,
 "nbformat_minor": 5
}
