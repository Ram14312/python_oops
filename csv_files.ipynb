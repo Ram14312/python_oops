{
 "cells": [
  {
   "cell_type": "code",
   "execution_count": 1,
   "id": "ccce29c0",
   "metadata": {},
   "outputs": [],
   "source": [
    "#csv means comman seperated value\n",
    "#in csv files the data were seperated by commas\n",
    "#now let us check how we can able to read csv files\n",
    "#first we need to import csv\n",
    "\n",
    "import csv"
   ]
  },
  {
   "cell_type": "code",
   "execution_count": 8,
   "metadata": {},
   "outputs": [
    {
     "name": "stdout",
     "output_type": "stream",
     "text": [
      "<_io.TextIOWrapper name='sample.csv' mode='r' encoding='cp1252'>\n",
      "<_csv.reader object at 0x0000014E9A519FC0>\n",
      "['Name', 'Age', 'Country']\n",
      "['Alice', '30', 'USA']\n",
      "['Bob', '25', 'UK']\n",
      "['Charlie', '35', 'Canada']\n"
     ]
    }
   ],
   "source": [
    "with open('sample.csv','r') as f:\n",
    "    print(f)\n",
    "    #print(f.read()) we are going to get nothing\n",
    "    print(csv.reader(f)) #it will provide hexadecimal value\n",
    "    reader = csv.reader(f)\n",
    "    for i in reader:\n",
    "        print(i)"
   ]
  },
  {
   "cell_type": "code",
   "execution_count": null,
   "id": "9002f957",
   "metadata": {},
   "outputs": [
    {
     "name": "stdout",
     "output_type": "stream",
     "text": [
      "['Alice', '30', 'USA']\n",
      "['Bob', '25', 'UK']\n",
      "['Charlie', '35', 'Canada']\n"
     ]
    }
   ],
   "source": [
    "#in above output we can able to see that the data is printed with column names as well\n",
    "#but we need to print only data for that we can follow below\n",
    "\n",
    "with open('sample.csv','r') as f:\n",
    "    reader = csv.reader(f)\n",
    "    next(reader)\n",
    "    for i in reader:\n",
    "        print(i)\n",
    "\n",
    "#with the help of next()we are directing pointer to start next new line\n",
    "\n"
   ]
  },
  {
   "cell_type": "code",
   "execution_count": 13,
   "id": "53413f5f",
   "metadata": {},
   "outputs": [],
   "source": [
    "#now let us check how can we write some data into cvs file\n",
    "\n",
    "with open('output.csv', 'w') as f:\n",
    "    writer = csv.writer(f)\n",
    "    writer.writerow(['alphabets', 'vowels'])\n",
    "    writer.writerows([['mangoes', 'graoes'],['watermelon', 'muskmelon'],['cinema', 'ott']])\n",
    "    "
   ]
  },
  {
   "cell_type": "code",
   "execution_count": null,
   "id": "a7fe0e6f",
   "metadata": {},
   "outputs": [
    {
     "name": "stdout",
     "output_type": "stream",
     "text": [
      "{'alphabets': 'mangoes', 'vowels': 'graoes'}\n",
      "{'alphabets': 'watermelon', 'vowels': 'muskmelon'}\n",
      "{'alphabets': 'cinema', 'vowels': 'ott'}\n"
     ]
    }
   ],
   "source": [
    "# we have something known as dictionary reader let us look into it\n",
    "\n",
    "with open('output.csv','r') as f:\n",
    "    reader = csv.DictReader(f)\n",
    "    for i in reader:\n",
    "        print(i)\n",
    "\n",
    "#so if we use dictreader by default it will consider the first row as columns names i.e, keys"
   ]
  },
  {
   "cell_type": "code",
   "execution_count": null,
   "id": "23c7ea95",
   "metadata": {},
   "outputs": [],
   "source": []
  }
 ],
 "metadata": {
  "kernelspec": {
   "display_name": "Python 3",
   "language": "python",
   "name": "python3"
  },
  "language_info": {
   "codemirror_mode": {
    "name": "ipython",
    "version": 3
   },
   "file_extension": ".py",
   "mimetype": "text/x-python",
   "name": "python",
   "nbconvert_exporter": "python",
   "pygments_lexer": "ipython3",
   "version": "3.13.2"
  }
 },
 "nbformat": 4,
 "nbformat_minor": 5
}
