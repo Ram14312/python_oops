{
 "cells": [
  {
   "cell_type": "code",
   "execution_count": 7,
   "id": "05f178a1",
   "metadata": {},
   "outputs": [],
   "source": [
    "#Open, Read, Write, Append \n",
    "#1. Write a Python script to create a text file named students.txt and write 10 student names into it. \n",
    "\n",
    "f = open('students.txt', 'w')\n",
    "f.write('ram\\n')\n",
    "f.write('bheem\\n')\n",
    "f.write('drona\\n')\n",
    "f.write('acharya\\n')\n",
    "f.write('karna\\n')\n",
    "f.write('arjuna\\n')\n",
    "f.write('phalguna\\n')\n",
    "f.write('dasaradha\\n')\n",
    "f.write('lakshmana\\n')\n",
    "f.write('bharatha\\n')\n",
    "f.close()\n",
    "  "
   ]
  },
  {
   "cell_type": "code",
   "execution_count": 10,
   "metadata": {},
   "outputs": [
    {
     "name": "stdout",
     "output_type": "stream",
     "text": [
      "1.ram\n",
      "\n",
      "2.bheem\n",
      "\n",
      "3.drona\n",
      "\n",
      "4.acharya\n",
      "\n",
      "5.karna\n",
      "\n",
      "6.arjuna\n",
      "\n",
      "7.phalguna\n",
      "\n",
      "8.dasaradha\n",
      "\n",
      "9.lakshmana\n",
      "\n",
      "10.bharatha\n",
      "\n"
     ]
    }
   ],
   "source": [
    "#2. Read the contents of students.txt and print each line prefixed by the line number. \n",
    "f = open('students.txt', 'r')\n",
    "\n",
    "j = 1\n",
    "for i in f:\n",
    "    print(f'{j}.{i}')\n",
    "    j = j+1\n"
   ]
  },
  {
   "cell_type": "code",
   "execution_count": 13,
   "id": "ec496f67",
   "metadata": {},
   "outputs": [],
   "source": [
    "#3. Append 5 more names to students.txt without overwriting existing content.\n",
    "f = open('students.txt', 'a')\n",
    "f.write('hanuman\\n')\n",
    "f.write('shugreeva\\n')\n",
    "f.write('krishna\\n')\n",
    "f.write('balarama\\n')\n",
    "f.write('gouklam\\n')\n",
    "f.close()\n",
    " \n"
   ]
  },
  {
   "cell_type": "code",
   "execution_count": 14,
   "metadata": {},
   "outputs": [
    {
     "name": "stdout",
     "output_type": "stream",
     "text": [
      "15\n"
     ]
    }
   ],
   "source": [
    "#4. Write a program that counts the total number of words in a given text file.\n",
    "count = 0\n",
    "f = open('students.txt', 'r')\n",
    "\n",
    "for i in f:\n",
    "    count = count+1\n",
    "print(count)"
   ]
  },
  {
   "cell_type": "code",
   "execution_count": 46,
   "id": "e099f2a3",
   "metadata": {},
   "outputs": [],
   "source": [
    "#5. Create a log file (activity.log) that records the timestamp whenever the script runs.\n",
    "\n",
    "import datetime  \n",
    "\n",
    "with open('activity.log','w') as f:\n",
    "    timestamp = datetime.datetime.now().strftime('%Y-%m-%d %H:%M:%S')\n",
    "    f.write(f'{timestamp}')\n",
    "\n",
    "\n"
   ]
  },
  {
   "cell_type": "code",
   "execution_count": null,
   "metadata": {},
   "outputs": [],
   "source": [
    "#File Modes & Pointers \n",
    "#6. Demonstrate the difference between 'r' and 'r+' mode by reading and updating a file.  \n",
    "\n",
    "with open('students.txt', 'r') as f:\n",
    "#currently in read mode so we can able to only read the content from text file cant modify anything\n",
    " f.read()\n",
    "\n",
    "#now while coming r+ mode here we have the capability for the reading the existing and updating the data as well i.e, + includes write operation\n",
    "#and due to pointer concept we can able to see the result is added at the last\n",
    "with open('students.txt', 'r+') as f:\n",
    " f.read()\n",
    " f.write('rama')\n",
    "\n"
   ]
  },
  {
   "cell_type": "code",
   "execution_count": 17,
   "id": "aef74a9e",
   "metadata": {},
   "outputs": [],
   "source": [
    "#7. Use 'w+' mode to create a file, write data, then read it back without closing the file. \n",
    "\n",
    "with open('students1.txt', 'w+') as f:\n",
    "    f.write('sugreeva')\n",
    "    f.read()\n"
   ]
  },
  {
   "cell_type": "code",
   "execution_count": 22,
   "id": "6a5d6e77",
   "metadata": {},
   "outputs": [
    {
     "name": "stdout",
     "output_type": "stream",
     "text": [
      "b'x00\\x12\\x07xva'\n"
     ]
    }
   ],
   "source": [
    "#8. Open a file in binary mode ('rb') and display the byte contents.\n",
    "with open('students1.txt', 'rb') as f:\n",
    "    print(f.read())\n"
   ]
  },
  {
   "cell_type": "code",
   "execution_count": 25,
   "id": "f1359c08",
   "metadata": {},
   "outputs": [
    {
     "name": "stdout",
     "output_type": "stream",
     "text": [
      "\n",
      "sita\n",
      "lava\n",
      "kusa\n",
      "\n"
     ]
    }
   ],
   "source": [
    "#9. Create a file, write multiple lines, then use seek() to read from a specific position.\n",
    "with open('students2.txt', 'w+') as f:\n",
    "    f.writelines('rama\\n')\n",
    "    f.writelines('sita\\n')\n",
    "    f.writelines('lava\\n')\n",
    "    f.writelines('kusa\\n')\n",
    "    f.seek(5)\n",
    "    print(f.read())"
   ]
  },
  {
   "cell_type": "code",
   "execution_count": 26,
   "metadata": {},
   "outputs": [
    {
     "name": "stdout",
     "output_type": "stream",
     "text": [
      "0 rama\n",
      "sita\n",
      "lava\n",
      "kusa\n",
      "\n"
     ]
    }
   ],
   "source": [
    "#10. Use tell() to print the current file pointer position while reading the file. \n",
    "with open('students2.txt', 'r') as f:\n",
    "    f.tell()\n",
    "    print(f'{f.tell()} {f.read()}')"
   ]
  },
  {
   "cell_type": "code",
   "execution_count": 27,
   "id": "cd235728",
   "metadata": {},
   "outputs": [],
   "source": [
    "#File Context Manager (with statement) \n",
    "#11. Rewrite Question 1 using a context manager to ensure the file closes automatically. \n",
    "\n",
    "with open('students.txt', 'w') as f:\n",
    " f.write('ram\\n')\n",
    " f.write('bheem\\n')\n",
    " f.write('drona\\n')\n",
    " f.write('acharya\\n')\n",
    " f.write('karna\\n')\n",
    " f.write('arjuna\\n')\n",
    " f.write('phalguna\\n')\n",
    " f.write('dasaradha\\n')\n",
    " f.write('lakshmana\\n')\n",
    " f.write('bharatha\\n')\n"
   ]
  },
  {
   "cell_type": "code",
   "execution_count": 36,
   "id": "100df269",
   "metadata": {},
   "outputs": [],
   "source": [
    "# 12. Create a script that reads a file using a context manager and handles FileNotFoundError. \n",
    "try :\n",
    "    with open('students2.txt', 'r') as f:\n",
    "     f.read()\n",
    "except FileNotFoundError:\n",
    "   print('the file is not present')\n",
    "except Exception as e:\n",
    "   print(e)"
   ]
  },
  {
   "cell_type": "code",
   "execution_count": 34,
   "id": "74ed49a0",
   "metadata": {},
   "outputs": [
    {
     "name": "stdout",
     "output_type": "stream",
     "text": [
      "['ram\\n', 'bheem\\n', 'drona\\n', 'acharya\\n', 'karna\\n', 'arjuna\\n', 'phalguna\\n', 'dasaradha\\n', 'lakshmana\\n', 'bharatha\\n']\n"
     ]
    }
   ],
   "source": [
    "# 13. Using a context manager, read students.txt and store all lines in a list.\n",
    "with open('students.txt', 'r') as f:\n",
    "    list = []\n",
    "    for i in f:\n",
    "     list.append(i)\n",
    "    print(list)\n"
   ]
  },
  {
   "cell_type": "code",
   "execution_count": null,
   "id": "5f003774",
   "metadata": {},
   "outputs": [],
   "source": [
    "# 14. Write a program to safely overwrite a file using a context manager and confirm data is saved.\n",
    "with open('students2.txt', 'w') as f:\n",
    "    f.write('ramayudh')\n",
    "    f.write('krishnayudh')"
   ]
  },
  {
   "cell_type": "code",
   "execution_count": 40,
   "id": "dd2bb0be",
   "metadata": {},
   "outputs": [],
   "source": [
    "# 15. Demonstrate reading and writing files simultaneously with nested with blocks.\n",
    "with open('students2.txt', 'r') as f:\n",
    "    data = f.read()\n",
    "    with open('students2.txt', 'w') as f:\n",
    "      if data:\n",
    "       f.write('brahmaayudh')"
   ]
  },
  {
   "cell_type": "code",
   "execution_count": 10,
   "id": "be93ec1e",
   "metadata": {},
   "outputs": [],
   "source": [
    "# CSV Handling (csv.reader, csv.DictWriter) \n",
    "# 16. Create a CSV file employees.csv with headers: Name, Department, Salary.  \n",
    "import csv\n",
    "with open('employees.csv','w') as f:\n",
    "    writer = csv.writer(f)\n",
    "    writer.writerow(['Name','Department','Salary'])\n",
    "\n"
   ]
  },
  {
   "cell_type": "code",
   "execution_count": 55,
   "id": "faeaf821",
   "metadata": {},
   "outputs": [],
   "source": [
    "# 17. Write 5 employee records into employees.csv using csv.DictWriter. \n",
    "import csv\n",
    "\n",
    "data = [\n",
    "    {'Name': 'ram','Department': 'engineering', 'Salary': 40000},\n",
    "    {'Name': 'bheem','Department': 'engineering', 'Salary': 60000},\n",
    "    {'Name': 'Ajay','Department': 'sales', 'Salary': 80000},\n",
    "    {'Name': 'Shriya','Department': 'hr', 'Salary': 90000},\n",
    "    {'Name': 'Aliya','Department': 'hr', 'Salary': 1000000}\n",
    "]\n",
    "\n",
    "\n",
    "with open('employees.csv','w',newline='') as f:\n",
    "    writer = csv.DictWriter(f,['Name','Department','Salary'])\n",
    "    writer.writeheader()\n",
    "    writer.writerows(data)\n",
    "    "
   ]
  },
  {
   "cell_type": "code",
   "execution_count": 56,
   "id": "d129d96f",
   "metadata": {},
   "outputs": [
    {
     "name": "stdout",
     "output_type": "stream",
     "text": [
      "[{'Name': 'Aliya', 'Department': 'hr', 'Salary': 1000000}, {'Name': 'Shriya', 'Department': 'hr', 'Salary': 90000}, {'Name': 'Ajay', 'Department': 'sales', 'Salary': 80000}, {'Name': 'bheem', 'Department': 'engineering', 'Salary': 60000}, {'Name': 'ram', 'Department': 'engineering', 'Salary': 40000}]\n"
     ]
    }
   ],
   "source": [
    "# 18. Read employees.csv and display all records sorted by Salary descending.\n",
    "\n",
    "with open('employees.csv','r',newline='') as f:\n",
    "    reader = csv.DictReader(f)\n",
    "    data = list(reader)\n",
    "\n",
    "    for row in data:\n",
    "     row['Salary'] = int(row['Salary'])\n",
    "\n",
    "    sorted_data = sorted(data, key=lambda x:x['Salary'], reverse=True)\n",
    "    print(sorted_data)\n"
   ]
  },
  {
   "cell_type": "code",
   "execution_count": 69,
   "id": "9e787879",
   "metadata": {},
   "outputs": [],
   "source": [
    "# 19. Write a script that filters all employees in the “Sales” department and writes them to a new CSV.\n",
    "import csv\n",
    "with open('employees.csv', 'r+') as f:\n",
    "    reader = csv.DictReader(f)\n",
    "    data = list(reader)\n",
    "\n",
    "    for i in data:\n",
    "        if i['Department'] == 'sales':\n",
    "            with open('sales.csv', 'w') as f1:\n",
    "                writer = csv.DictWriter(f1,['Name','Department','Salary'])\n",
    "                writer.writeheader()\n",
    "                writer.writerow(i)\n",
    "                "
   ]
  },
  {
   "cell_type": "code",
   "execution_count": 1,
   "id": "5eab8500",
   "metadata": {},
   "outputs": [
    {
     "name": "stdout",
     "output_type": "stream",
     "text": [
      "{'Name': 'ram', 'Department': 'engineering', 'Salary': '40000'}\n",
      "{'Name': 'bheem', 'Department': 'engineering', 'Salary': '60000'}\n",
      "{'Name': 'Ajay', 'Department': 'sales', 'Salary': '80000'}\n",
      "{'Name': 'Shriya', 'Department': 'hr', 'Salary': '90000'}\n",
      "{'Name': 'Aliya', 'Department': 'hr', 'Salary': '1000000'}\n"
     ]
    }
   ],
   "source": [
    "# 20. Convert employees.csv into a list of dictionaries and print them.\n",
    "import csv\n",
    "with open('employees.csv', 'r') as f:\n",
    "    reader2 = csv.DictReader(f)\n",
    "    data1 = list(reader2)\n",
    "    for i in data1:\n",
    "        print(i)\n",
    "    \n",
    "        \n"
   ]
  },
  {
   "cell_type": "code",
   "execution_count": 5,
   "id": "6e74994c",
   "metadata": {},
   "outputs": [],
   "source": [
    "# JSON Handling (json.load, json.dumps) \n",
    "# 21. Write a Python dictionary with employee details and save it to employee.json. \n",
    "\n",
    "employee_data = [\n",
    "    {\n",
    "        'Name': 'ram',\n",
    "        'Department': 'engineering',\n",
    "        'Salary': 40000\n",
    "    },\n",
    "    {\n",
    "        'Name': 'bheem',\n",
    "        'Department': 'engineering-Sr',\n",
    "        'Salary': 60000\n",
    "    },\n",
    "    {\n",
    "        'Name': 'Aliya',\n",
    "        'Department': 'sales',\n",
    "        'Salary': 30000\n",
    "    },\n",
    "    {\n",
    "        'Name': 'shriya',\n",
    "        'Department': 'hr',\n",
    "        'Salary': 25000\n",
    "    },\n",
    "    {\n",
    "        'Name': 'Ajay',\n",
    "        'Department': 'sales',\n",
    "        'Salary': 20000\n",
    "    }\n",
    "\n",
    "]\n",
    "\n",
    "import json\n",
    "\n",
    "with open('employee.json', 'w') as f:\n",
    "    json.dump(employee_data,f)\n"
   ]
  },
  {
   "cell_type": "code",
   "execution_count": 10,
   "id": "581f8ff2",
   "metadata": {},
   "outputs": [
    {
     "name": "stdout",
     "output_type": "stream",
     "text": [
      "[\n",
      "    {\n",
      "        \"Name\": \"ram\",\n",
      "        \"Department\": \"engineering\",\n",
      "        \"Salary\": 40000\n",
      "    },\n",
      "    {\n",
      "        \"Name\": \"bheem\",\n",
      "        \"Department\": \"engineering-Sr\",\n",
      "        \"Salary\": 60000\n",
      "    },\n",
      "    {\n",
      "        \"Name\": \"Aliya\",\n",
      "        \"Department\": \"sales\",\n",
      "        \"Salary\": 30000\n",
      "    },\n",
      "    {\n",
      "        \"Name\": \"shriya\",\n",
      "        \"Department\": \"hr\",\n",
      "        \"Salary\": 25000\n",
      "    },\n",
      "    {\n",
      "        \"Name\": \"Ajay\",\n",
      "        \"Department\": \"sales\",\n",
      "        \"Salary\": 20000\n",
      "    }\n",
      "]\n"
     ]
    }
   ],
   "source": [
    "# 22. Load employee.json and display the data in a formatted way. \n",
    "\n",
    "import json\n",
    "\n",
    "with open('employee.json', 'r') as f:\n",
    "    data2 = json.load(f)\n",
    "    print(json.dumps(data2,indent=4))"
   ]
  },
  {
   "cell_type": "code",
   "execution_count": 8,
   "id": "72f0aa54",
   "metadata": {},
   "outputs": [],
   "source": [
    "# 23. Update the salary of an employee in employee.json and overwrite the file. \n",
    "\n",
    "import json\n",
    "\n",
    "with open('employee.json', 'r+') as f:\n",
    "     data3 = json.load(f)\n",
    "     \n",
    "     increment = 1000\n",
    "     for i in data3:\n",
    "          i['Salary'] += increment \n",
    "\n",
    "     f.seek(0)\n",
    "     json.dump(data3,f,indent=4)\n",
    "     f.truncate()\n",
    "     \n",
    "        "
   ]
  },
  {
   "cell_type": "code",
   "execution_count": 15,
   "id": "6b2402f2",
   "metadata": {},
   "outputs": [],
   "source": [
    "# 24. Write a script to convert employees.csv into a JSON file. \n",
    "\n",
    "import csv\n",
    "import json\n",
    "\n",
    "with open('employees.csv', 'r') as f:\n",
    "    data5 = csv.DictReader(f)\n",
    "    data_list = list(data5)\n",
    "    \n",
    "    with open('employees.json', 'w') as f1:\n",
    "        json.dump(data_list,f1)\n",
    "\n",
    "     "
   ]
  },
  {
   "cell_type": "code",
   "execution_count": null,
   "id": "c7dda2d6",
   "metadata": {},
   "outputs": [
    {
     "name": "stdout",
     "output_type": "stream",
     "text": [
      "[{'Name': 'ram', 'Department': 'engineering', 'Salary': '40000'}, {'Name': 'bheem', 'Department': 'engineering', 'Salary': '60000'}, {'Name': 'Ajay', 'Department': 'sales', 'Salary': '80000'}, {'Name': 'Shriya', 'Department': 'hr', 'Salary': '90000'}, {'Name': 'Aliya', 'Department': 'hr', 'Salary': '1000000'}]\n"
     ]
    }
   ],
   "source": [
    "# 25. Validate if a given JSON file is properly formatted or throws JSONDecodeError. \n",
    "import json\n",
    "\n",
    "try:\n",
    "    with open('employees.json', 'r') as f:\n",
    "        print(json.load(f))\n",
    "except json.JSONDecodeError :\n",
    "    print('have an issue with json format')\n",
    "except Exception as e:\n",
    "    print(e)\n"
   ]
  },
  {
   "cell_type": "code",
   "execution_count": 33,
   "id": "839e8b96",
   "metadata": {},
   "outputs": [],
   "source": [
    "# Pickle Usage & Security \n",
    "# 26. Create a Python dictionary of product inventory and serialize it using pickle. \n",
    "import pickle\n",
    "\n",
    "product_inventory = {'bat': 'gavaskar', 'ball':'malinga'}\n",
    "\n",
    "with open('product.pkl','wb') as f:\n",
    "    pickle.dump(product_inventory,f)\n",
    "\n",
    "\n"
   ]
  },
  {
   "cell_type": "code",
   "execution_count": 34,
   "id": "0fb0bda3",
   "metadata": {},
   "outputs": [
    {
     "name": "stdout",
     "output_type": "stream",
     "text": [
      "{'bat': 'gavaskar', 'ball': 'malinga'}\n"
     ]
    }
   ],
   "source": [
    "# 27. Deserialize the pickled data and print it. \n",
    "import pickle\n",
    "\n",
    "with open('product.pkl','rb') as f:\n",
    "    print(pickle.load(f))\n"
   ]
  },
  {
   "cell_type": "code",
   "execution_count": 35,
   "id": "04f4f69e",
   "metadata": {},
   "outputs": [
    {
     "name": "stdout",
     "output_type": "stream",
     "text": [
      "{'bat': 'cat', 'ball': 'malinga'}\n"
     ]
    }
   ],
   "source": [
    "# 28. Modify a record in the deserialized data and overwrite the pickle file. \n",
    "import pickle\n",
    "\n",
    "with open('product.pkl','rb+') as f:\n",
    "    data_pick = pickle.load(f)\n",
    "    \n",
    "    for key in data_pick.keys():\n",
    "        data_pick[key] = 'cat'\n",
    "        break\n",
    "\n",
    "    f.seek(0)\n",
    "    pickle.dump(data_pick,f)\n",
    "    f.truncate()\n",
    "\n",
    "    print(data_pick)\n",
    "     \n",
    "\n"
   ]
  },
  {
   "cell_type": "code",
   "execution_count": 38,
   "id": "9543ac09",
   "metadata": {},
   "outputs": [
    {
     "name": "stdout",
     "output_type": "stream",
     "text": [
      "{'bat': 'cat', 'ball': 'malinga'}\n"
     ]
    }
   ],
   "source": [
    "# 29. Write a script to load pickle data securely and handle exceptions. \n",
    "import pickle\n",
    "\n",
    "try:\n",
    "    with open('product.pkl','rb') as f:\n",
    "     data = pickle.load(f)\n",
    "     print(data)\n",
    "except  (pickle.UnpicklingError, pickle.PickleError) as e:\n",
    "    print(f'Pickle error: {e}')\n",
    "except Exception as e:\n",
    "   print(e)\n",
    "    "
   ]
  },
  {
   "cell_type": "code",
   "execution_count": 40,
   "id": "ebb90483",
   "metadata": {},
   "outputs": [],
   "source": [
    "# 30. Research and explain why loading untrusted pickle files can be a security risk. \n",
    "# Demonstrate with an example.\n",
    "\n",
    "#loading the untrusted pickles files might cause an security risk because it consists of serialized object in binary format\n",
    "#i.e which are not human readable so this might be a way for some hackers to install some errors or virus in to the system \n",
    "#and might steal the sensitive data of an organization\n",
    "\n",
    "import pickle\n",
    "import os\n",
    "\n",
    "# Malicious payload class\n",
    "class RunCalc:\n",
    "    def __reduce__(self):\n",
    "        return (os.system, ('calc.exe',))  # On Windows, opens calculator\n",
    "\n",
    "malicious_pickle = pickle.dumps(RunCalc())\n",
    "\n",
    "# Writing malicious pickle to a file\n",
    "with open('malicious.pkl', 'wb') as f:\n",
    "    f.write(malicious_pickle)\n",
    "\n",
    "# Unsafe loading - this will execute the payload\n",
    "with open('malicious.pkl', 'rb') as f:\n",
    "    pickle.load(f)  # This runs os.system('calc.exe')"
   ]
  },
  {
   "cell_type": "code",
   "execution_count": null,
   "id": "85c545f5",
   "metadata": {},
   "outputs": [],
   "source": [
    "# Integration & Realistic Use Cases \n",
    "# 31. Create a program that reads names from a text file and writes them to a CSV file.  \n",
    " "
   ]
  },
  {
   "cell_type": "code",
   "execution_count": null,
   "id": "0db6957a",
   "metadata": {},
   "outputs": [],
   "source": [
    "# 32. Build a script that appends log entries into a text file whenever a JSON file is updated."
   ]
  },
  {
   "cell_type": "code",
   "execution_count": null,
   "id": "098349af",
   "metadata": {},
   "outputs": [],
   "source": [
    "# 33. Write a program that reads data from a CSV file, transforms it (e.g., increase all salaries \n",
    "# by 10%), and writes the results into a new JSON file. "
   ]
  },
  {
   "cell_type": "code",
   "execution_count": null,
   "id": "fde5b139",
   "metadata": {},
   "outputs": [],
   "source": [
    "# 34. Create a backup of any given file by copying its contents to a new file with a timestamp \n",
    "# suffix."
   ]
  },
  {
   "cell_type": "code",
   "execution_count": null,
   "id": "25906d36",
   "metadata": {},
   "outputs": [],
   "source": [
    "# 35. Develop a script that uses seek() to read only the last 100 bytes of a large log file. "
   ]
  },
  {
   "cell_type": "code",
   "execution_count": null,
   "id": "aa1361a1",
   "metadata": {},
   "outputs": [],
   "source": [
    "# 36. Create a script that writes user input into a text file until the user types “STOP”."
   ]
  },
  {
   "cell_type": "code",
   "execution_count": null,
   "id": "c9c7d38d",
   "metadata": {},
   "outputs": [],
   "source": [
    "# 37. Read a JSON file containing configurations and write specific settings into a .ini-style \n",
    "# text file. "
   ]
  },
  {
   "cell_type": "code",
   "execution_count": null,
   "id": "867d282a",
   "metadata": {},
   "outputs": [],
   "source": [
    "# 38. Create a pickle file storing user session data and demonstrate restoring the session state \n",
    "# on script restart. "
   ]
  },
  {
   "cell_type": "code",
   "execution_count": null,
   "id": "736b209a",
   "metadata": {},
   "outputs": [],
   "source": [
    "# 39. Write a script to merge multiple text files into a single file. "
   ]
  },
  {
   "cell_type": "code",
   "execution_count": null,
   "id": "9366dac2",
   "metadata": {},
   "outputs": [],
   "source": [
    "# 40. Create a data export tool that reads product details from JSON, formats them into CSV, \n",
    "# and saves them with a timestamped filename. "
   ]
  },
  {
   "cell_type": "code",
   "execution_count": null,
   "id": "8bcf4f20",
   "metadata": {},
   "outputs": [],
   "source": []
  },
  {
   "cell_type": "code",
   "execution_count": null,
   "id": "4ddfa6c1",
   "metadata": {},
   "outputs": [],
   "source": []
  },
  {
   "cell_type": "code",
   "execution_count": null,
   "id": "5fba1415",
   "metadata": {},
   "outputs": [],
   "source": []
  },
  {
   "cell_type": "code",
   "execution_count": null,
   "id": "b04c12be",
   "metadata": {},
   "outputs": [],
   "source": []
  },
  {
   "cell_type": "code",
   "execution_count": null,
   "id": "afbc58cc",
   "metadata": {},
   "outputs": [],
   "source": []
  }
 ],
 "metadata": {
  "kernelspec": {
   "display_name": "Python 3",
   "language": "python",
   "name": "python3"
  },
  "language_info": {
   "codemirror_mode": {
    "name": "ipython",
    "version": 3
   },
   "file_extension": ".py",
   "mimetype": "text/x-python",
   "name": "python",
   "nbconvert_exporter": "python",
   "pygments_lexer": "ipython3",
   "version": "3.13.2"
  }
 },
 "nbformat": 4,
 "nbformat_minor": 5
}
