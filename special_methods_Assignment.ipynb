{
 "cells": [
  {
   "cell_type": "code",
   "execution_count": 3,
   "id": "8b421073",
   "metadata": {},
   "outputs": [
    {
     "name": "stdout",
     "output_type": "stream",
     "text": [
      "this book title is 3-mistakes and written by chethan-bhagat\n"
     ]
    }
   ],
   "source": [
    "# Special Methods (__init__, __str__, __eq__, etc.) \n",
    "#7. Add __str__ method to Book class to customize output. \n",
    "\n",
    "class Book:\n",
    "    def __init__(self, title, author):\n",
    "        self.title = title\n",
    "        self.author = author\n",
    "\n",
    "    def __str__(self):\n",
    "        return f\"this book title is {self.title} and written by {self.author}\"\n",
    "    \n",
    "b = Book('3-mistakes', 'chethan-bhagat')\n",
    "\n",
    "print(b)"
   ]
  },
  {
   "cell_type": "code",
   "execution_count": 4,
   "id": "92003a35",
   "metadata": {},
   "outputs": [
    {
     "name": "stdout",
     "output_type": "stream",
     "text": [
      "False\n",
      "True\n"
     ]
    }
   ],
   "source": [
    "#8. Add __eq__ to Student class to compare students by grade. \n",
    "\n",
    "class Student:\n",
    "    def __init__(self,name,grade):\n",
    "        self.name = name\n",
    "        self.grade = grade\n",
    "\n",
    "    def __eq__(self,value):\n",
    "        return self.grade == value.grade\n",
    "    \n",
    "\n",
    "s = Student('ram', 9)\n",
    "s1 = Student('bheem', 8)\n",
    "s2 = Student('robin', 9)\n",
    "\n",
    "print(s==s1)\n",
    "print(s==s2)"
   ]
  },
  {
   "cell_type": "code",
   "execution_count": 7,
   "metadata": {},
   "outputs": [
    {
     "data": {
      "text/plain": [
       "3"
      ]
     },
     "execution_count": 7,
     "metadata": {},
     "output_type": "execute_result"
    }
   ],
   "source": [
    "#9. Implement __len__ in Course class to return number of enrolled students. \n",
    "\n",
    "class Student:\n",
    "    def __init__(self, name, enrolled):\n",
    "        self.name = name\n",
    "        self.enrolled = enrolled\n",
    "\n",
    "class Course:\n",
    "    def __init__(self,Student):\n",
    "        self.Student = Student\n",
    "\n",
    "\n",
    "    def __len__(self):\n",
    "        return len(self.Student)\n",
    "    \n",
    "\n",
    "s = Student('ram', True)\n",
    "s1 = Student('bheem', True)\n",
    "s2 = Student('robin', True)\n",
    "\n",
    "c = Course([s,s1,s2])\n",
    "len(c)\n",
    "        "
   ]
  },
  {
   "cell_type": "code",
   "execution_count": 12,
   "id": "344f9645",
   "metadata": {},
   "outputs": [
    {
     "name": "stdout",
     "output_type": "stream",
     "text": [
      "desire\n",
      "new-model\n",
      "'desire\\nnew-model'\n"
     ]
    }
   ],
   "source": [
    "#10. Use __repr__ in Car class to return debug-friendly string. \n",
    "\n",
    "class Car:\n",
    "    def __init__(self,model, design):\n",
    "        self.model = model\n",
    "        self.design = design\n",
    "\n",
    "    def __repr__(self):\n",
    "        return f'it displays car {self.model} and {self.design}'\n",
    "    \n",
    "c = Car('i120', 'desire\\nnew-model')\n",
    "\n",
    "print(c.design)\n",
    "print(repr(c.design))"
   ]
  },
  {
   "cell_type": "code",
   "execution_count": 13,
   "id": "f90970ac",
   "metadata": {},
   "outputs": [
    {
     "name": "stdout",
     "output_type": "stream",
     "text": [
      "Indian-Women, chethan-bhagat\n"
     ]
    }
   ],
   "source": [
    "#11. Add __call__ to a FunctionHolder class and demonstrate how objects become callable. \n",
    "\n",
    "class Book:\n",
    "    def __init__(self, title, author):\n",
    "        self.title = title\n",
    "        self.author = author\n",
    "\n",
    "    def __call__(self):\n",
    "        return f'{self.title}, {self.author}'\n",
    "    \n",
    "b = Book('Indian-Women', 'chethan-bhagat')\n",
    "\n",
    "print(b())\n"
   ]
  },
  {
   "cell_type": "code",
   "execution_count": 24,
   "id": "63e695dc",
   "metadata": {},
   "outputs": [
    {
     "name": "stdout",
     "output_type": "stream",
     "text": [
      "Loan account is deleted\n"
     ]
    }
   ],
   "source": [
    "#12. Add __del__ to Account class to show destructor behavior. \n",
    "\n",
    "class Account:\n",
    "    def __init__(self, account_holder, account_type):\n",
    "        self.account_holder = account_holder\n",
    "        self.account_type = account_type\n",
    "\n",
    "    def __del__(self):\n",
    "         print(f\"{self.account_type} account is deleted\")\n",
    "    \n",
    "a2 = Account ('ram', 'Loan')\n",
    "\n",
    "del a2\n",
    " "
   ]
  },
  {
   "cell_type": "code",
   "execution_count": 26,
   "id": "5e444a01",
   "metadata": {},
   "outputs": [
    {
     "data": {
      "text/plain": [
       "(6, 8)"
      ]
     },
     "execution_count": 26,
     "metadata": {},
     "output_type": "execute_result"
    }
   ],
   "source": [
    "#13. Implement __add__ in a Vector class to add two vectors. \n",
    "\n",
    "class Vector:\n",
    "     def __init__(self,x,y):\n",
    "          self.x = x\n",
    "          self.y = y \n",
    "\n",
    "\n",
    "     def __add__(self, other):\n",
    "          return (self.x + other.x, self.y+other.y)\n",
    "     \n",
    "\n",
    "v = Vector(2,3)\n",
    "v1 = Vector(4,5)\n",
    "\n",
    "v.__add__(v1)\n",
    "          "
   ]
  }
 ],
 "metadata": {
  "kernelspec": {
   "display_name": "Python 3",
   "language": "python",
   "name": "python3"
  },
  "language_info": {
   "codemirror_mode": {
    "name": "ipython",
    "version": 3
   },
   "file_extension": ".py",
   "mimetype": "text/x-python",
   "name": "python",
   "nbconvert_exporter": "python",
   "pygments_lexer": "ipython3",
   "version": "3.13.2"
  }
 },
 "nbformat": 4,
 "nbformat_minor": 5
}
