{
 "cells": [
  {
   "cell_type": "code",
   "execution_count": null,
   "id": "304bc6d6",
   "metadata": {},
   "outputs": [
    {
     "data": {
      "text/plain": [
       "'ram'"
      ]
     },
     "execution_count": 2,
     "metadata": {},
     "output_type": "execute_result"
    }
   ],
   "source": [
    "#Encapsulation\n",
    "#which is used to hide some information or provide some restriction \n",
    "#in python if we provide one single underscore \"_\" before any variable it is going to be considered as protected variable (eg:_name)\n",
    "#in python if we provide double underscore before any variable it is going to be considered as private variable(eg:__name)\n",
    "\n",
    "#if we have single _ variable we can directly call it\n",
    "#but if we have __ variable we cant directly call it\n",
    "#python has prvided a concept called name_mangling i.e, which is used to access the value of private variable\n",
    "#i.e _classname__variablename so with this only we can able to access the value\n",
    "#otherwise we can use getter and setter for to access that\n",
    "\n",
    "class student:\n",
    "    def __init__(self, name):\n",
    "        self._name = name\n",
    "\n",
    "s = student('ram')\n",
    "\n",
    "s._name\n"
   ]
  },
  {
   "cell_type": "code",
   "execution_count": 4,
   "id": "71d24ac1",
   "metadata": {},
   "outputs": [
    {
     "ename": "AttributeError",
     "evalue": "'student' object has no attribute '__name'",
     "output_type": "error",
     "traceback": [
      "\u001b[31m---------------------------------------------------------------------------\u001b[39m",
      "\u001b[31mAttributeError\u001b[39m                            Traceback (most recent call last)",
      "\u001b[36mCell\u001b[39m\u001b[36m \u001b[39m\u001b[32mIn[4]\u001b[39m\u001b[32m, line 6\u001b[39m\n\u001b[32m      3\u001b[39m         \u001b[38;5;28mself\u001b[39m.__name = name\n\u001b[32m      5\u001b[39m s = student(\u001b[33m'\u001b[39m\u001b[33mram\u001b[39m\u001b[33m'\u001b[39m)\n\u001b[32m----> \u001b[39m\u001b[32m6\u001b[39m \u001b[43ms\u001b[49m\u001b[43m.\u001b[49m\u001b[43m__name\u001b[49m\n",
      "\u001b[31mAttributeError\u001b[39m: 'student' object has no attribute '__name'"
     ]
    }
   ],
   "source": [
    "class student:\n",
    "    def __init__(self, name):\n",
    "        self.__name = name\n",
    "\n",
    "s = student('ram')\n",
    "s.__name"
   ]
  },
  {
   "cell_type": "code",
   "execution_count": null,
   "id": "015819f0",
   "metadata": {},
   "outputs": [
    {
     "data": {
      "text/plain": [
       "'ram'"
      ]
     },
     "execution_count": 5,
     "metadata": {},
     "output_type": "execute_result"
    }
   ],
   "source": [
    "#name mangling concept\n",
    "s._student__name"
   ]
  },
  {
   "cell_type": "code",
   "execution_count": 7,
   "id": "ab0256d0",
   "metadata": {},
   "outputs": [],
   "source": [
    "#getter and setter\n",
    "class student:\n",
    "    def __init__(self, name):\n",
    "        self.__name = name\n",
    "\n",
    "    def get_name(self):\n",
    "        return self.__name"
   ]
  },
  {
   "cell_type": "code",
   "execution_count": 9,
   "id": "c837967f",
   "metadata": {},
   "outputs": [
    {
     "data": {
      "text/plain": [
       "'ram'"
      ]
     },
     "execution_count": 9,
     "metadata": {},
     "output_type": "execute_result"
    }
   ],
   "source": [
    "s3 = student('ram')\n",
    "s3.get_name()"
   ]
  }
 ],
 "metadata": {
  "kernelspec": {
   "display_name": "Python 3",
   "language": "python",
   "name": "python3"
  },
  "language_info": {
   "codemirror_mode": {
    "name": "ipython",
    "version": 3
   },
   "file_extension": ".py",
   "mimetype": "text/x-python",
   "name": "python",
   "nbconvert_exporter": "python",
   "pygments_lexer": "ipython3",
   "version": "3.13.2"
  }
 },
 "nbformat": 4,
 "nbformat_minor": 5
}
