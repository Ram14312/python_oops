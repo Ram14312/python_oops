{
 "cells": [
  {
   "cell_type": "code",
   "execution_count": null,
   "id": "4d9f8eb5",
   "metadata": {},
   "outputs": [
    {
     "ename": "FileNotFoundError",
     "evalue": "[Errno 2] No such file or directory: 'text1.txt'",
     "output_type": "error",
     "traceback": [
      "\u001b[31m---------------------------------------------------------------------------\u001b[39m",
      "\u001b[31mFileNotFoundError\u001b[39m                         Traceback (most recent call last)",
      "\u001b[36mCell\u001b[39m\u001b[36m \u001b[39m\u001b[32mIn[1]\u001b[39m\u001b[32m, line 3\u001b[39m\n\u001b[32m      1\u001b[39m \u001b[38;5;66;03m#opening a file\u001b[39;00m\n\u001b[32m      2\u001b[39m \u001b[38;5;66;03m#open is a method is present by default in python\u001b[39;00m\n\u001b[32m----> \u001b[39m\u001b[32m3\u001b[39m \u001b[38;5;28;43mopen\u001b[39;49m\u001b[43m(\u001b[49m\u001b[33;43m'\u001b[39;49m\u001b[33;43mtext1.txt\u001b[39;49m\u001b[33;43m'\u001b[39;49m\u001b[43m)\u001b[49m \u001b[38;5;66;03m# here we are trying to open a file with name text1.txt\u001b[39;00m\n\u001b[32m      4\u001b[39m \u001b[38;5;66;03m#by default the file is in read mode\u001b[39;00m\n",
      "\u001b[36mFile \u001b[39m\u001b[32m~\\AppData\\Roaming\\Python\\Python313\\site-packages\\IPython\\core\\interactiveshell.py:343\u001b[39m, in \u001b[36m_modified_open\u001b[39m\u001b[34m(file, *args, **kwargs)\u001b[39m\n\u001b[32m    336\u001b[39m \u001b[38;5;28;01mif\u001b[39;00m file \u001b[38;5;129;01min\u001b[39;00m {\u001b[32m0\u001b[39m, \u001b[32m1\u001b[39m, \u001b[32m2\u001b[39m}:\n\u001b[32m    337\u001b[39m     \u001b[38;5;28;01mraise\u001b[39;00m \u001b[38;5;167;01mValueError\u001b[39;00m(\n\u001b[32m    338\u001b[39m         \u001b[33mf\u001b[39m\u001b[33m\"\u001b[39m\u001b[33mIPython won\u001b[39m\u001b[33m'\u001b[39m\u001b[33mt let you open fd=\u001b[39m\u001b[38;5;132;01m{\u001b[39;00mfile\u001b[38;5;132;01m}\u001b[39;00m\u001b[33m by default \u001b[39m\u001b[33m\"\u001b[39m\n\u001b[32m    339\u001b[39m         \u001b[33m\"\u001b[39m\u001b[33mas it is likely to crash IPython. If you know what you are doing, \u001b[39m\u001b[33m\"\u001b[39m\n\u001b[32m    340\u001b[39m         \u001b[33m\"\u001b[39m\u001b[33myou can use builtins\u001b[39m\u001b[33m'\u001b[39m\u001b[33m open.\u001b[39m\u001b[33m\"\u001b[39m\n\u001b[32m    341\u001b[39m     )\n\u001b[32m--> \u001b[39m\u001b[32m343\u001b[39m \u001b[38;5;28;01mreturn\u001b[39;00m \u001b[43mio_open\u001b[49m\u001b[43m(\u001b[49m\u001b[43mfile\u001b[49m\u001b[43m,\u001b[49m\u001b[43m \u001b[49m\u001b[43m*\u001b[49m\u001b[43margs\u001b[49m\u001b[43m,\u001b[49m\u001b[43m \u001b[49m\u001b[43m*\u001b[49m\u001b[43m*\u001b[49m\u001b[43mkwargs\u001b[49m\u001b[43m)\u001b[49m\n",
      "\u001b[31mFileNotFoundError\u001b[39m: [Errno 2] No such file or directory: 'text1.txt'"
     ]
    }
   ],
   "source": [
    "#opening a file\n",
    "#open is a method is present by default in python\n",
    "open('text1.txt') # here we are trying to open a file with name text1.txt\n",
    "#by default the file is in read mode\n",
    "#since the file is not found in the directory it will throw an error"
   ]
  },
  {
   "cell_type": "code",
   "execution_count": null,
   "metadata": {},
   "outputs": [
    {
     "data": {
      "text/plain": [
       "<_io.TextIOWrapper name='text1.txt' mode='w' encoding='cp1252'>"
      ]
     },
     "execution_count": 2,
     "metadata": {},
     "output_type": "execute_result"
    }
   ],
   "source": [
    "#now we can create a file\n",
    "open('text1.txt', 'w')\n",
    "#now after running this in our directory new file is created with the same name"
   ]
  },
  {
   "cell_type": "code",
   "execution_count": null,
   "id": "64323b0b",
   "metadata": {},
   "outputs": [],
   "source": [
    "#now let us try to add some data\n",
    "#for that first store the file in a variable\n",
    "f = open('text1.txt', 'w')\n",
    "#w means write if no  file is avaialbale with the name then it will create or otherwise it will override the existing data\n",
    "\n",
    "f.write('my name is ram')\n",
    "# execute it and check the file\n",
    "\n",
    "#but in the file the data is not reflecting\n",
    "f.close()\n",
    "\n",
    "#now after calling the close() methd we can able to see the data is reflecting in the txt file\n",
    "#so based on this it is clear until and unless you close the file then only data reflects in the file\n"
   ]
  },
  {
   "cell_type": "code",
   "execution_count": 6,
   "metadata": {},
   "outputs": [],
   "source": [
    "f = open('text1.txt')"
   ]
  },
  {
   "cell_type": "code",
   "execution_count": 7,
   "id": "db8a0374",
   "metadata": {},
   "outputs": [
    {
     "data": {
      "text/plain": [
       "'my name is ram'"
      ]
     },
     "execution_count": 7,
     "metadata": {},
     "output_type": "execute_result"
    }
   ],
   "source": [
    "f.read()"
   ]
  },
  {
   "cell_type": "code",
   "execution_count": 9,
   "metadata": {},
   "outputs": [],
   "source": [
    "f.close()"
   ]
  },
  {
   "cell_type": "code",
   "execution_count": null,
   "id": "80456977",
   "metadata": {},
   "outputs": [],
   "source": [
    "#here the file is already present now we are trying with write mode so it will override the new data which we will provide now\n",
    "f = open('text1.txt','w')"
   ]
  },
  {
   "cell_type": "code",
   "execution_count": 13,
   "id": "de720208",
   "metadata": {},
   "outputs": [
    {
     "data": {
      "text/plain": [
       "34"
      ]
     },
     "execution_count": 13,
     "metadata": {},
     "output_type": "execute_result"
    }
   ],
   "source": [
    "f.write('my aim is to become data-scientist')"
   ]
  },
  {
   "cell_type": "code",
   "execution_count": 15,
   "id": "1325a7ae",
   "metadata": {},
   "outputs": [],
   "source": [
    "f.close()\n",
    "#so after this when u check the file you can able to see new data is overridden in the file with old data"
   ]
  },
  {
   "cell_type": "code",
   "execution_count": 17,
   "id": "6d3c4ce5",
   "metadata": {},
   "outputs": [],
   "source": [
    "#now let us check how to append the data with existing data in file without overiding it\n",
    "f = open('text1.txt','a')"
   ]
  },
  {
   "cell_type": "code",
   "execution_count": 19,
   "id": "8224f2c6",
   "metadata": {},
   "outputs": [
    {
     "data": {
      "text/plain": [
       "29"
      ]
     },
     "execution_count": 19,
     "metadata": {},
     "output_type": "execute_result"
    }
   ],
   "source": [
    "f.write(\"\\n i will achieve it in 1 year\")"
   ]
  },
  {
   "cell_type": "code",
   "execution_count": 21,
   "id": "24ae0277",
   "metadata": {},
   "outputs": [],
   "source": [
    "f.close()"
   ]
  },
  {
   "cell_type": "code",
   "execution_count": 24,
   "id": "94aebe26",
   "metadata": {},
   "outputs": [],
   "source": [
    "f= open('text1.txt','r')"
   ]
  },
  {
   "cell_type": "code",
   "execution_count": 28,
   "id": "2a6c0019",
   "metadata": {},
   "outputs": [
    {
     "data": {
      "text/plain": [
       "''"
      ]
     },
     "execution_count": 28,
     "metadata": {},
     "output_type": "execute_result"
    }
   ],
   "source": [
    "f.read()"
   ]
  },
  {
   "cell_type": "code",
   "execution_count": null,
   "id": "9720dec8",
   "metadata": {},
   "outputs": [
    {
     "name": "stdout",
     "output_type": "stream",
     "text": [
      "my aim is to become data-scientistmy aim is to become data-scientist\n",
      "i will achieve it in 1 year\n",
      "i will achieve it in 1 year\n"
     ]
    }
   ],
   "source": [
    "f= open('text1.txt','r') \n",
    "\n",
    "for i in f:\n",
    "    print(i.strip())\n",
    "\n",
    "#here we have used the looping and strip() method to remove \\n character in the data"
   ]
  },
  {
   "cell_type": "code",
   "execution_count": 29,
   "id": "8e7ba8bf",
   "metadata": {},
   "outputs": [],
   "source": [
    "f.close()"
   ]
  },
  {
   "cell_type": "code",
   "execution_count": 32,
   "id": "905d277d",
   "metadata": {},
   "outputs": [],
   "source": [
    "#now here we need only 10 characters from the file so lets check how to achieve that\n",
    "f= open('text1.txt','r') \n",
    "\n",
    "f.read(10)\n",
    "f.close()"
   ]
  },
  {
   "cell_type": "code",
   "execution_count": 34,
   "id": "1c8e0276",
   "metadata": {},
   "outputs": [],
   "source": [
    "\n",
    "l = ['first line\\n', 'second line \\n', 'third line \\n']\n",
    "\n",
    "#now we need to add this data to the file"
   ]
  },
  {
   "cell_type": "code",
   "execution_count": null,
   "id": "5299a5be",
   "metadata": {},
   "outputs": [],
   "source": [
    "# let us check how can we do that\n",
    "f = open(\"text2.txt\", 'w')\n",
    "\n",
    "#in python we have option called writelines()\n",
    "f.writelines(l)\n",
    "f.close()\n",
    "\n",
    "#now if we open our file we can able to see list data into the file in new lines"
   ]
  },
  {
   "cell_type": "code",
   "execution_count": 36,
   "id": "4953314f",
   "metadata": {},
   "outputs": [
    {
     "data": {
      "text/plain": [
       "['first line\\n', 'second line \\n', 'third line \\n']"
      ]
     },
     "execution_count": 36,
     "metadata": {},
     "output_type": "execute_result"
    }
   ],
   "source": [
    "#similar to writelines we have something as readlines\n",
    "f = open(\"text2.txt\", 'r')\n",
    "f.readlines()\n"
   ]
  },
  {
   "cell_type": "code",
   "execution_count": null,
   "id": "4a0b6f09",
   "metadata": {},
   "outputs": [],
   "source": []
  },
  {
   "cell_type": "code",
   "execution_count": null,
   "id": "c969fb44",
   "metadata": {},
   "outputs": [],
   "source": []
  },
  {
   "cell_type": "code",
   "execution_count": null,
   "id": "c0299dc3",
   "metadata": {},
   "outputs": [],
   "source": []
  }
 ],
 "metadata": {
  "kernelspec": {
   "display_name": "Python 3",
   "language": "python",
   "name": "python3"
  },
  "language_info": {
   "codemirror_mode": {
    "name": "ipython",
    "version": 3
   },
   "file_extension": ".py",
   "mimetype": "text/x-python",
   "name": "python",
   "nbconvert_exporter": "python",
   "pygments_lexer": "ipython3",
   "version": "3.13.2"
  }
 },
 "nbformat": 4,
 "nbformat_minor": 5
}
