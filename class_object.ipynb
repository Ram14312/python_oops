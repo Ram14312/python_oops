{
 "cells": [
  {
   "cell_type": "code",
   "execution_count": null,
   "id": "8baebdad",
   "metadata": {},
   "outputs": [],
   "source": [
    "#oops is going to give structure to my entire code base, it is going to increase the reusability of the code\n",
    "#class is nothing but a blueprint which consists of list of objects with state and properties\n",
    "#whenever we dont want any kind of implementation in a class then we can use \"pass\"\n",
    "\n",
    "class course:\n",
    "    pass\n",
    "\n"
   ]
  },
  {
   "cell_type": "code",
   "execution_count": 4,
   "id": "5630c1e8",
   "metadata": {},
   "outputs": [],
   "source": [
    "class course:\n",
    "    def course_details():\n",
    "        print(\"inside this we can able to find course details\")"
   ]
  },
  {
   "cell_type": "code",
   "execution_count": 8,
   "id": "27e60f4a",
   "metadata": {},
   "outputs": [],
   "source": [
    "#now we can access this class by creating a variable\n",
    "#for example\n",
    "c = course()"
   ]
  },
  {
   "cell_type": "code",
   "execution_count": 10,
   "id": "d3cd78ce",
   "metadata": {},
   "outputs": [
    {
     "ename": "TypeError",
     "evalue": "course.course_details() takes 0 positional arguments but 1 was given",
     "output_type": "error",
     "traceback": [
      "\u001b[31m---------------------------------------------------------------------------\u001b[39m",
      "\u001b[31mTypeError\u001b[39m                                 Traceback (most recent call last)",
      "\u001b[36mCell\u001b[39m\u001b[36m \u001b[39m\u001b[32mIn[10]\u001b[39m\u001b[32m, line 2\u001b[39m\n\u001b[32m      1\u001b[39m \u001b[38;5;66;03m#now we can try to access function inside the class and check what will happen\u001b[39;00m\n\u001b[32m----> \u001b[39m\u001b[32m2\u001b[39m \u001b[43mc\u001b[49m\u001b[43m.\u001b[49m\u001b[43mcourse_details\u001b[49m\u001b[43m(\u001b[49m\u001b[43m)\u001b[49m\n\u001b[32m      4\u001b[39m \u001b[38;5;66;03m#here we can able to see we are getting an exception when we try to access function inside the class \u001b[39;00m\n\u001b[32m      5\u001b[39m \u001b[38;5;66;03m#for to slove we need to add \"self\" inside method call for to attach method to the class , the code as follows \u001b[39;00m\n",
      "\u001b[31mTypeError\u001b[39m: course.course_details() takes 0 positional arguments but 1 was given"
     ]
    }
   ],
   "source": [
    "#now we can try to access function inside the class and check what will happen\n",
    "c.course_details()\n",
    "\n",
    "#here we can able to see we are getting an exception when we try to access function inside the class \n",
    "#for to slove we need to add \"self\" inside method call for to attach method to the class , the code as follows "
   ]
  },
  {
   "cell_type": "code",
   "execution_count": null,
   "id": "cbb82034",
   "metadata": {},
   "outputs": [],
   "source": [
    "class courses:\n",
    "    def courses_detail(self):\n",
    "        print(\"inside it has course details\")\n",
    "\n",
    "# here self is not a keyword instead of self we can able to keep any string values no problem\n",
    "#the pythn will treat it as a  first reference variable  so it will attach the method to the class\n",
    "# so we can able to add any number of parameters inside the class but the first paramater is going to be treated as reference variable\n",
    "#ex def course_detail(self, course_id,course_mentor)"
   ]
  },
  {
   "cell_type": "code",
   "execution_count": null,
   "id": "96f663c0",
   "metadata": {},
   "outputs": [],
   "source": [
    "c = courses()\n",
    "#here c is called as class-varaiable in other words it is called as object\n",
    "# we can able to create as many as class varaiables for example\n",
    "c1 = courses()\n",
    "c2 = courses()"
   ]
  },
  {
   "cell_type": "code",
   "execution_count": 15,
   "id": "751cc919",
   "metadata": {},
   "outputs": [
    {
     "name": "stdout",
     "output_type": "stream",
     "text": [
      "inside it has course details\n"
     ]
    }
   ],
   "source": [
    "c.courses_detail()\n",
    "\n",
    "#now we can able to see that after adding self inside method it is attached with class so that we can able to access the method"
   ]
  },
  {
   "cell_type": "code",
   "execution_count": 17,
   "id": "295c7c71",
   "metadata": {},
   "outputs": [],
   "source": [
    "#if we add more parameters inside the class means while calling the class we need to pass those parameter values\n",
    "#otherwise will get an exception for example\n",
    "\n",
    "class course:\n",
    "    def courses_detail(self, couse_id, course_mentor):\n",
    "        print(\"inside it has course details\")\n"
   ]
  },
  {
   "cell_type": "code",
   "execution_count": 19,
   "id": "22e5c7ef",
   "metadata": {},
   "outputs": [
    {
     "name": "stdout",
     "output_type": "stream",
     "text": [
      "inside it has course details\n"
     ]
    }
   ],
   "source": [
    "d = course()\n",
    "\n",
    "d.courses_detail(2,'aswathdama')"
   ]
  },
  {
   "cell_type": "code",
   "execution_count": 20,
   "id": "824d4c1e",
   "metadata": {},
   "outputs": [],
   "source": [
    "# whenever we are creating a class varaiable with the class object at that time you need to pass a value means what need to be done?\n",
    "\n",
    "#for to solve this in python the special method is designed already which is known as __init__\n",
    "# we need to use init method whenever we need to pass a data while object creation\n",
    "\n",
    "#now we can see an example for it\n",
    "\n",
    "class course:\n",
    "    def __init__(self,course_name,mentor):\n",
    "        #to initiate the name and mentor varaiables from functions to class\n",
    "        self.course_name = course_name\n",
    "        self.mentor = mentor"
   ]
  },
  {
   "cell_type": "code",
   "execution_count": 22,
   "id": "6f1982b1",
   "metadata": {},
   "outputs": [
    {
     "ename": "TypeError",
     "evalue": "course.__init__() missing 2 required positional arguments: 'course_name' and 'mentor'",
     "output_type": "error",
     "traceback": [
      "\u001b[31m---------------------------------------------------------------------------\u001b[39m",
      "\u001b[31mTypeError\u001b[39m                                 Traceback (most recent call last)",
      "\u001b[36mCell\u001b[39m\u001b[36m \u001b[39m\u001b[32mIn[22]\u001b[39m\u001b[32m, line 3\u001b[39m\n\u001b[32m      1\u001b[39m \u001b[38;5;66;03m#now lets us try to create a class object without passing the variables and will see what is going to happen\u001b[39;00m\n\u001b[32m----> \u001b[39m\u001b[32m3\u001b[39m c = \u001b[43mcourse\u001b[49m\u001b[43m(\u001b[49m\u001b[43m)\u001b[49m\n\u001b[32m      5\u001b[39m \u001b[38;5;66;03m#see here since we have used init method and passed two variables while creating an class object if we dont pass those variables \u001b[39;00m\n\u001b[32m      6\u001b[39m \u001b[38;5;66;03m#means it will through an error\u001b[39;00m\n",
      "\u001b[31mTypeError\u001b[39m: course.__init__() missing 2 required positional arguments: 'course_name' and 'mentor'"
     ]
    }
   ],
   "source": [
    "#now lets us try to create a class object without passing the variables and will see what is going to happen\n",
    "\n",
    "c = course()\n",
    "\n",
    "#see here since we have used init method and passed two variables while creating an class object if we dont pass those variables \n",
    "#means it will through an error"
   ]
  },
  {
   "cell_type": "code",
   "execution_count": 24,
   "id": "48160d59",
   "metadata": {},
   "outputs": [],
   "source": [
    "c = course('python','bhattacharya')\n",
    "#now see after passing two variables we dont got any error"
   ]
  },
  {
   "cell_type": "code",
   "execution_count": 26,
   "id": "a221b488",
   "metadata": {},
   "outputs": [
    {
     "data": {
      "text/plain": [
       "'python'"
      ]
     },
     "execution_count": 26,
     "metadata": {},
     "output_type": "execute_result"
    }
   ],
   "source": [
    "#now inorder access those varaibale names we can follow below way\n",
    "c.course_name"
   ]
  },
  {
   "cell_type": "code",
   "execution_count": 28,
   "id": "9559a2b4",
   "metadata": {},
   "outputs": [
    {
     "data": {
      "text/plain": [
       "'bhattacharya'"
      ]
     },
     "execution_count": 28,
     "metadata": {},
     "output_type": "execute_result"
    }
   ],
   "source": [
    "c.mentor"
   ]
  },
  {
   "cell_type": "code",
   "execution_count": 30,
   "id": "ca96ba0e",
   "metadata": {},
   "outputs": [],
   "source": [
    "#now let us understand how the name and mentor varaiables are attached to the class \n",
    "#c = course('python','bhattacharya') (while object creation these two values python and bhatacharya will points to method vraiables name and mentor)\n",
    "\n",
    "#i.e,\n",
    "#def __init__(self,course_name,mentor):\n",
    "        \n",
    "        #self.course_name = course_name\n",
    "        #self.mentor = mentor\n",
    "\n",
    "#after that name and mentor will be pointed to self.couse_name and self.mentor\n",
    "#now these self.couse_name and self.mentor it is attached to the class\n",
    "\n",
    "#but note point here is course_name and mentor is different from self.course_name, self_mentor\n",
    "# to understand this follow below example\n",
    "\n"
   ]
  },
  {
   "cell_type": "code",
   "execution_count": 32,
   "id": "073c17f0",
   "metadata": {},
   "outputs": [],
   "source": [
    "class course:\n",
    "    def __init__(self,course_name,mentor):\n",
    "        #to initiate the name and mentor varaiables from functions to class\n",
    "        self.course_name1 = course_name\n",
    "        self.mentor1 = mentor\n",
    "\n",
    "#now we have taken the same method let us change self.couse_name to self.couse_name1\n",
    "#now let us create a class object\n",
    "c = course('python','bhattacharya')\n",
    "#up to here it will work fine\n",
    "#now let us try to access the values as before and check what will happen\n",
    "\n"
   ]
  },
  {
   "cell_type": "code",
   "execution_count": 34,
   "id": "12c46f24",
   "metadata": {},
   "outputs": [
    {
     "ename": "AttributeError",
     "evalue": "'course' object has no attribute 'couse_name'",
     "output_type": "error",
     "traceback": [
      "\u001b[31m---------------------------------------------------------------------------\u001b[39m",
      "\u001b[31mAttributeError\u001b[39m                            Traceback (most recent call last)",
      "\u001b[36mCell\u001b[39m\u001b[36m \u001b[39m\u001b[32mIn[34]\u001b[39m\u001b[32m, line 1\u001b[39m\n\u001b[32m----> \u001b[39m\u001b[32m1\u001b[39m \u001b[43mc\u001b[49m\u001b[43m.\u001b[49m\u001b[43mcouse_name\u001b[49m\n\u001b[32m      3\u001b[39m \u001b[38;5;66;03m#see here when i try to access c.course_name i am getting an exception so this shows name and self.course_name is different\u001b[39;00m\n\u001b[32m      4\u001b[39m \u001b[38;5;66;03m#each and everytime when we are accessing the value from method inside class self.course_name is attached to the class so\u001b[39;00m\n\u001b[32m      5\u001b[39m \u001b[38;5;66;03m#now let us use c.course_name1 will get an output without any exception\u001b[39;00m\n",
      "\u001b[31mAttributeError\u001b[39m: 'course' object has no attribute 'couse_name'"
     ]
    }
   ],
   "source": [
    "c.couse_name\n",
    "\n",
    "#see here when i try to access c.course_name i am getting an exception so this shows name and self.course_name is different\n",
    "#each and everytime when we are accessing the value from method inside class self.course_name is attached to the class so\n",
    "#now let us use c.course_name1 will get an output without any exception"
   ]
  },
  {
   "cell_type": "code",
   "execution_count": 36,
   "id": "778de1d1",
   "metadata": {},
   "outputs": [
    {
     "data": {
      "text/plain": [
       "'python'"
      ]
     },
     "execution_count": 36,
     "metadata": {},
     "output_type": "execute_result"
    }
   ],
   "source": [
    "c.course_name1"
   ]
  },
  {
   "cell_type": "code",
   "execution_count": 38,
   "id": "d1244e3f",
   "metadata": {},
   "outputs": [],
   "source": [
    "#so now let us check we have two methods inside a class the goal here is to access the values from one method to another method i.e, \n",
    "#before class object creation let us check how we can do that\n",
    "\n",
    "class course:\n",
    "    def __init__(self,course_name,mentor):\n",
    "        #to initiate the name and mentor varaiables from functions to class\n",
    "        self.course_name1 = course_name\n",
    "        self.mentor1 = mentor\n",
    "\n",
    "    def display(self):\n",
    "        print( self.course_name1,self.mentor1)\n",
    "\n",
    "#so by the above way we can able to pass values of one method to another method so the varaiables which is used to pass from one method to\n",
    "#another method is known as instance variables\n"
   ]
  },
  {
   "cell_type": "code",
   "execution_count": null,
   "id": "f3b1697b",
   "metadata": {},
   "outputs": [
    {
     "name": "stdout",
     "output_type": "stream",
     "text": [
      "python rathore\n"
     ]
    }
   ],
   "source": [
    "e = course('python', 'rathore')\n",
    "e.display()\n",
    "\n",
    "# now you can able to notice that the variables inside the method is passed from one method to another method"
   ]
  }
 ],
 "metadata": {
  "kernelspec": {
   "display_name": "Python 3",
   "language": "python",
   "name": "python3"
  },
  "language_info": {
   "codemirror_mode": {
    "name": "ipython",
    "version": 3
   },
   "file_extension": ".py",
   "mimetype": "text/x-python",
   "name": "python",
   "nbconvert_exporter": "python",
   "pygments_lexer": "ipython3",
   "version": "3.13.2"
  }
 },
 "nbformat": 4,
 "nbformat_minor": 5
}
