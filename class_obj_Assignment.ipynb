{
 "cells": [
  {
   "cell_type": "code",
   "execution_count": 4,
   "id": "3ee58589",
   "metadata": {},
   "outputs": [
    {
     "name": "stdout",
     "output_type": "stream",
     "text": [
      "ram\n",
      "25\n",
      "A\n",
      "remo\n",
      "28\n",
      "B\n",
      "romeo\n",
      "30\n",
      "C\n"
     ]
    }
   ],
   "source": [
    "#1. Classes & Objects (Basics) \n",
    "#1. Create a Student class with attributes name, age, and grade. Instantiate 3 objects and  print their details. \n",
    " \n",
    "class Student:\n",
    "    def __init__(self,name,age,grade):\n",
    "        self.name = name\n",
    "        self.age = age\n",
    "        self.grade = grade\n",
    "\n",
    "\n",
    "s = Student('ram',25,'A')\n",
    "s1 = Student('remo',28,'B')\n",
    "s2 = Student('romeo',30,'C')\n",
    "\n",
    "print(s.name)\n",
    "print(s.age)\n",
    "print(s.grade)\n",
    "print(s1.name)\n",
    "print(s1.age)\n",
    "print(s1.grade)\n",
    "print(s2.name)\n",
    "print(s2.age)\n",
    "print(s2.grade)\n",
    "        "
   ]
  },
  {
   "cell_type": "code",
   "execution_count": null,
   "id": "5f54b7f6",
   "metadata": {},
   "outputs": [
    {
     "name": "stdout",
     "output_type": "stream",
     "text": [
      "the deposited amount in the accunt is 200\n",
      "the total amount in the accunt is 200\n",
      "the withdrwn amount in the accunt is 100\n",
      "the remaining balance in the account will be  100\n",
      "the deposited amount in the accunt is 100\n",
      "the total amount in the accunt is 200\n",
      "insufficient balance\n"
     ]
    }
   ],
   "source": [
    "#2. Build a BankAccount class with deposit and withdraw methods. \n",
    "\n",
    "class BankAccount:\n",
    "    \n",
    "    def __init__(self,initial_balance =0):\n",
    "       self.balance = initial_balance\n",
    "\n",
    "    def deposit(self,deposit_money):\n",
    "      self.deposit_money = deposit_money\n",
    "      self.balance += deposit_money\n",
    "      print(f'the deposited amount in the accunt is',self.deposit_money)\n",
    "      print(f'the total amount in the accunt is',self.balance)\n",
    "\n",
    "    def withdraw(self, withdrawing_amount):\n",
    "      self.withdrawing_amount = withdrawing_amount\n",
    "      if self.balance >= withdrawing_amount :\n",
    "       self.balance -= withdrawing_amount \n",
    "       print(f'the withdrwn amount in the accunt is',withdrawing_amount)\n",
    "       print(f'the remaining balance in the account will be ',self.balance)\n",
    "      else :\n",
    "        print('insufficient balance')\n",
    "\n",
    "\n",
    "b = BankAccount()\n",
    "b.deposit(200)\n",
    "b.withdraw(100)\n",
    "b.deposit(100)\n",
    "b.withdraw(300)\n"
   ]
  },
  {
   "cell_type": "code",
   "execution_count": 1,
   "metadata": {},
   "outputs": [
    {
     "name": "stdout",
     "output_type": "stream",
     "text": [
      "40\n",
      "26\n"
     ]
    }
   ],
   "source": [
    "#3. Create a class Rectangle and calculate its area and perimeter using methods.\n",
    "# area = length * w\n",
    "#perimter = 2(length + width)\n",
    "\n",
    "class Rectangle:\n",
    "    def __init__(self,length, width):\n",
    "        self.length = length\n",
    "        self.width = width\n",
    "\n",
    "    def calculate_area(self):\n",
    "         area = self.length * self.width\n",
    "         return area\n",
    "    \n",
    "    def calculate_perimeter(self):\n",
    "         perimeter = 2*(self.length + self.width)\n",
    "         return perimeter\n",
    "    \n",
    "r = Rectangle(5,8)\n",
    "\n",
    "print(r.calculate_area())\n",
    "print(r.calculate_perimeter())\n",
    "     "
   ]
  },
  {
   "cell_type": "code",
   "execution_count": 2,
   "id": "db29f06e",
   "metadata": {},
   "outputs": [
    {
     "name": "stdout",
     "output_type": "stream",
     "text": [
      "the author of the book Revolution-2020 will be chethan-bhagat and its genre is romantic\n"
     ]
    }
   ],
   "source": [
    "#4. Write a Book class with a method to display book info.\n",
    "\n",
    "class Book:\n",
    "    def __init__(self,name,author, genre):\n",
    "        self.name = name\n",
    "        self.author = author\n",
    "        self.genre = genre\n",
    "\n",
    "    def display_bookDetails(self):\n",
    "        print(f'the author of the book {self.name} will be {self.author} and its genre is {self.genre}')\n",
    "\n",
    "d = Book('Revolution-2020', 'chethan-bhagat', 'romantic')\n",
    "\n",
    "d.display_bookDetails()"
   ]
  },
  {
   "cell_type": "code",
   "execution_count": 4,
   "id": "41796d72",
   "metadata": {},
   "outputs": [
    {
     "name": "stdout",
     "output_type": "stream",
     "text": [
      "the car will go 120 km/hr and  its model is Dezire\n",
      "the car will go 150 km/hr and  its model is Audi\n",
      "the car will go 160 km/hr and  its model is thar\n"
     ]
    }
   ],
   "source": [
    "#5. Develop a Car class that tracks speed and model; create multiple objects. \n",
    "\n",
    "class Car:\n",
    "    def __init__(self,speed,model):\n",
    "        self.speed = speed\n",
    "        self.model = model\n",
    "\n",
    "    def car_classification(self):\n",
    "        print(f'the car will go {self.speed} km/hr and  its model is {self.model}')\n",
    "\n",
    "c = Car(120,'Dezire')\n",
    "c1 = Car(150, 'Audi')\n",
    "c2 = Car(160, 'thar')\n",
    "\n",
    "c.car_classification()\n",
    "c1.car_classification()\n",
    "c2.car_classification()\n"
   ]
  },
  {
   "cell_type": "code",
   "execution_count": null,
   "id": "30ebd650",
   "metadata": {},
   "outputs": [
    {
     "name": "stdout",
     "output_type": "stream",
     "text": [
      "the default configuration will be i7 and 8gb\n",
      "the user-defined configuration will be i8 and 12gb\n"
     ]
    }
   ],
   "source": [
    "#6. Write a class Laptop with both default and user-defined values.\n",
    "\n",
    "class Laptop:\n",
    "    def __init__(self, model='i7', storage ='8gb'):\n",
    "        self.model = model\n",
    "        self.storage = storage\n",
    "\n",
    "    def default(self):\n",
    "        print(f'the default configuration will be {self.model} and {self.storage}')\n",
    "\n",
    "    def user_defined(self):\n",
    "        print(f'the user-defined configuration will be {self.model} and {self.storage}')\n",
    "\n",
    "l = Laptop()\n",
    "l.default()\n",
    "\n",
    "l2 = Laptop('i8', '12gb')\n",
    "l2.user_defined()\n"
   ]
  }
 ],
 "metadata": {
  "kernelspec": {
   "display_name": "Python 3",
   "language": "python",
   "name": "python3"
  },
  "language_info": {
   "codemirror_mode": {
    "name": "ipython",
    "version": 3
   },
   "file_extension": ".py",
   "mimetype": "text/x-python",
   "name": "python",
   "nbconvert_exporter": "python",
   "pygments_lexer": "ipython3",
   "version": "3.13.2"
  }
 },
 "nbformat": 4,
 "nbformat_minor": 5
}
