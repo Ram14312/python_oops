{
 "cells": [
  {
   "cell_type": "code",
   "execution_count": 3,
   "id": "b9efb848",
   "metadata": {},
   "outputs": [],
   "source": [
    "#Encapsulation & Name Mangling \n",
    "#26. Create a UserAccount with private password using __password. \n",
    "\n",
    "class UserAccount:\n",
    "    def __init__(self,password):\n",
    "        self.__password = password\n",
    "  "
   ]
  },
  {
   "cell_type": "code",
   "execution_count": null,
   "id": "d8497f74",
   "metadata": {},
   "outputs": [
    {
     "data": {
      "text/plain": [
       "'RAm@aa'"
      ]
     },
     "execution_count": 14,
     "metadata": {},
     "output_type": "execute_result"
    }
   ],
   "source": [
    "#27. Write getter and setter methods to access private data.\n",
    "\n",
    "class UserAccount:\n",
    "    def __init__(self,password):\n",
    "        self.__password = password\n",
    "\n",
    "    def get_data(self):\n",
    "        return self.__password\n",
    "    \n",
    "    def set_data(self,password):\n",
    "        self.__password = password\n",
    "\n",
    "u = UserAccount('RAm@a')\n",
    "#u.get_data()\n",
    "u.set_data(\"RAm@aa\")\n",
    "u.get_data()\n"
   ]
  },
  {
   "cell_type": "code",
   "execution_count": 17,
   "metadata": {},
   "outputs": [
    {
     "data": {
      "text/plain": [
       "'RAm@aa'"
      ]
     },
     "execution_count": 17,
     "metadata": {},
     "output_type": "execute_result"
    }
   ],
   "source": [
    "#28. Show how name mangling prevents direct access.\n",
    "#u.__password #direct access causes an error we can prevent thie with name mangling\n",
    "\n",
    "u._UserAccount__password"
   ]
  },
  {
   "cell_type": "code",
   "execution_count": 18,
   "id": "ef86207e",
   "metadata": {},
   "outputs": [
    {
     "data": {
      "text/plain": [
       "'RAm@aa'"
      ]
     },
     "execution_count": 18,
     "metadata": {},
     "output_type": "execute_result"
    }
   ],
   "source": [
    "#29. Access private variable using mangled name intentionally and explain the output. \n",
    "\n",
    "class UserAccount:\n",
    "    def __init__(self,password):\n",
    "        self.__password = password\n",
    "\n",
    "    def get_data(self):\n",
    "        return self.__password\n",
    "    \n",
    "    def set_data(self,password):\n",
    "        self.__password = password\n",
    "\n",
    "u = UserAccount('RAm@a')\n",
    "#u.get_data()\n",
    "u.set_data(\"RAm@aa\")\n",
    "u.get_data()\n",
    "\n",
    "u._UserAccount__password #here with the help of name mangling we can able to access pivate variable name"
   ]
  },
  {
   "cell_type": "code",
   "execution_count": 19,
   "metadata": {},
   "outputs": [
    {
     "data": {
      "text/plain": [
       "1000"
      ]
     },
     "execution_count": 19,
     "metadata": {},
     "output_type": "execute_result"
    }
   ],
   "source": [
    "#30. Create a Wallet class with balance encapsulated. \n",
    "\n",
    "class wallet:\n",
    "    def __init__(self,balance):\n",
    "        self.__balance = balance\n",
    "\n",
    "w = wallet(1000)\n",
    "w._wallet__balance"
   ]
  },
  {
   "cell_type": "code",
   "execution_count": 20,
   "id": "698d2d66",
   "metadata": {},
   "outputs": [],
   "source": [
    "#Abstraction with ABC (Abstract Base Class) \n",
    "#31. Create an abstract class Shape with abstract method area().  \n",
    "\n",
    "from abc import ABC, abstractmethod\n",
    "\n",
    "class Shape(ABC):\n",
    "    @abstractmethod\n",
    "    def area(self):\n",
    "        pass\n"
   ]
  },
  {
   "cell_type": "code",
   "execution_count": null,
   "metadata": {},
   "outputs": [
    {
     "data": {
      "text/plain": [
       "16"
      ]
     },
     "execution_count": 23,
     "metadata": {},
     "output_type": "execute_result"
    }
   ],
   "source": [
    "#32. Derive Circle, Square, and implement area() differently.\n",
    "\n",
    "import math\n",
    "class Circle(Shape):\n",
    "    def __init__(self,radius):\n",
    "        self.radius = radius\n",
    "\n",
    "    def area(self):\n",
    "        circle_area = math.pi *(self.radius * self.radius)\n",
    "        return circle_area\n",
    "\n",
    "class Square(Shape):\n",
    "    def __init__(self,side):\n",
    "        self.side = side\n",
    "\n",
    "    def area(self):\n",
    "        square_area =  4*(self.side)\n",
    "        return square_area\n",
    "    \n",
    "\n",
    "c = Circle(8)\n",
    "s = Square(4)\n",
    "c.area()\n",
    "s.area()"
   ]
  },
  {
   "cell_type": "code",
   "execution_count": 24,
   "id": "59bc0e32",
   "metadata": {},
   "outputs": [
    {
     "ename": "TypeError",
     "evalue": "Can't instantiate abstract class Shape without an implementation for abstract method 'area'",
     "output_type": "error",
     "traceback": [
      "\u001b[31m---------------------------------------------------------------------------\u001b[39m",
      "\u001b[31mTypeError\u001b[39m                                 Traceback (most recent call last)",
      "\u001b[36mCell\u001b[39m\u001b[36m \u001b[39m\u001b[32mIn[24]\u001b[39m\u001b[32m, line 2\u001b[39m\n\u001b[32m      1\u001b[39m \u001b[38;5;66;03m#33. Raise TypeError when trying to instantiate abstract class directly.\u001b[39;00m\n\u001b[32m----> \u001b[39m\u001b[32m2\u001b[39m s = \u001b[43mShape\u001b[49m\u001b[43m(\u001b[49m\u001b[43m)\u001b[49m\n",
      "\u001b[31mTypeError\u001b[39m: Can't instantiate abstract class Shape without an implementation for abstract method 'area'"
     ]
    }
   ],
   "source": [
    "#33. Raise TypeError when trying to instantiate abstract class directly.\n",
    "s = Shape()"
   ]
  },
  {
   "cell_type": "code",
   "execution_count": null,
   "id": "d589f57c",
   "metadata": {},
   "outputs": [
    {
     "data": {
      "text/plain": [
       "16"
      ]
     },
     "execution_count": 29,
     "metadata": {},
     "output_type": "execute_result"
    }
   ],
   "source": [
    "#34. Use ABCMeta and abstractmethod from abc module. \n",
    "\n",
    "from abc import ABCMeta, abstractmethod\n",
    "\n",
    "\n",
    "class Shape(metaclass=ABCMeta):\n",
    "    @abstractmethod\n",
    "    def area(self):\n",
    "        pass\n",
    "\n",
    "    def refer(self):\n",
    "        return \"it provides the reference\"\n",
    "    \n",
    "\n",
    "import math\n",
    "class Circle(Shape):\n",
    "    def __init__(self,radius):\n",
    "        self.radius = radius\n",
    "\n",
    "    def area(self):\n",
    "        circle_area = math.pi *(self.radius * self.radius)\n",
    "        return circle_area\n",
    "\n",
    "class Square(Shape):\n",
    "    def __init__(self,side):\n",
    "        self.side = side\n",
    "\n",
    "    def area(self):\n",
    "        square_area =  4*(self.side)\n",
    "        return square_area\n",
    "    \n",
    "\n",
    "c = Circle(8)\n",
    "s = Square(4)\n",
    "c.area()\n",
    "s.area()\n"
   ]
  },
  {
   "cell_type": "code",
   "execution_count": 31,
   "id": "c79ccc6f",
   "metadata": {},
   "outputs": [
    {
     "data": {
      "text/plain": [
       "'provides course detail in the Laptop with maximized screen'"
      ]
     },
     "execution_count": 31,
     "metadata": {},
     "output_type": "execute_result"
    }
   ],
   "source": [
    "#35. Build EuronDevice abstract class and implement subclasses like EuronTablet, EuronLaptop.\n",
    "\n",
    "from abc import ABC, abstractmethod\n",
    "\n",
    "class EuronDevice(ABC):\n",
    "\n",
    "    @abstractmethod\n",
    "    def courses_list(self):\n",
    "        pass\n",
    "    \n",
    "\n",
    "class EuronTablet(EuronDevice):\n",
    "    def courses_list(self):\n",
    "        return \"provides course detail in the tablet with minimized screen\"\n",
    "    \n",
    "\n",
    "class EuronLaptop(EuronDevice):\n",
    "    def courses_list(self):\n",
    "        return \"provides course detail in the Laptop with maximized screen\"\n",
    "    \n",
    "\n",
    "et = EuronTablet()\n",
    "et.courses_list()\n",
    "el = EuronLaptop()\n",
    "el.courses_list()\n",
    "    \n"
   ]
  },
  {
   "cell_type": "code",
   "execution_count": 101,
   "metadata": {},
   "outputs": [
    {
     "name": "stdout",
     "output_type": "stream",
     "text": [
      "mango and description: mango tastes so good for health\n"
     ]
    }
   ],
   "source": [
    "#Duck Typing \n",
    "#36. Create a function describe(obj) that accepts any object with name and describe() method. \n",
    "'''\n",
    "class fruit:\n",
    "   def __init__(self, name):\n",
    "    self.name = name\n",
    "\n",
    "    def taste(self):\n",
    "        return (f\"{self.name} tastes so good for health\")\n",
    "    \n",
    "def Describe(obj):\n",
    "    print(f'{obj.name} and description:{obj.taste()}')\n",
    "\n",
    "f = fruit('mango')\n",
    "print(Describe(f))'''\n",
    "\n",
    "class fruit:\n",
    "    def __init__(self, name):\n",
    "        self.name = name\n",
    "\n",
    "    def describe(self):\n",
    "        return f\"{self.name} tastes so good for health\"   # return string\n",
    "\n",
    "def describe(obj):\n",
    "    print(f'{obj.name} and description: {obj.describe()}')\n",
    "\n",
    "f = fruit('mango')\n",
    "describe(f)   # Just call without print()\n",
    "\n",
    "\n"
   ]
  },
  {
   "cell_type": "code",
   "execution_count": null,
   "id": "a56cb24d",
   "metadata": {},
   "outputs": [
    {
     "name": "stdout",
     "output_type": "stream",
     "text": [
      "the length of the object 3\n",
      "the string reprsentation of <__main__.s2 object at 0x00000184B441BA10>\n"
     ]
    }
   ],
   "source": [
    "#37. Demonstrate duck typing by passing multiple unrelated classes to a single function.\n",
    "\n",
    "class s1:\n",
    "    def __init__(self,val):\n",
    "        self.val = val\n",
    "\n",
    "    def __len__(self):\n",
    "        return len(self.val)\n",
    "    \n",
    "class s2:\n",
    "    def __init__(self,val):\n",
    "        self.val = val\n",
    "\n",
    "    def __len__(self):\n",
    "        return len(self.val)\n",
    "    \n",
    "def common_function(obj1, obj2):\n",
    "    print(f'the length of the object {len(obj1)}')\n",
    "    print(f'the string reprsentation of {str(obj2)}')\n",
    "\n",
    "s_one = s1(('roman', 'british', 'french'))\n",
    "s_two = s2(('roman', 'british', 'french'))\n",
    "\n",
    "common_function(s_one,s_two)\n"
   ]
  },
  {
   "cell_type": "code",
   "execution_count": 44,
   "id": "b8e490be",
   "metadata": {},
   "outputs": [
    {
     "name": "stdout",
     "output_type": "stream",
     "text": [
      "Length of obj1: 3\n",
      "String of obj2: ('roman', 'british', 'french')\n",
      "Are obj1 and obj2 equal? : True\n"
     ]
    }
   ],
   "source": [
    "#38. Create two unrelated classes that support len(), str(), and eq() and pass them to a common handler. \n",
    "\n",
    "class s1:\n",
    "    def __init__(self,val):\n",
    "        self.val = val\n",
    "\n",
    "    def __len__(self):\n",
    "        return len(self.val)\n",
    "    \n",
    "    def __str__(self):\n",
    "        return str(self.val)\n",
    "    \n",
    "    def __eq__(self, other):\n",
    "        return self.val == other.val\n",
    "    \n",
    "\n",
    "class s2:\n",
    "    def __init__(self,val):\n",
    "        self.val = val\n",
    "\n",
    "    def __len__(self):\n",
    "        return len(self.val)\n",
    "    \n",
    "    def __str__(self):\n",
    "        return str(self.val)\n",
    "    \n",
    "    def __eq__(self, other):\n",
    "        return self.val == other.val\n",
    "\n",
    "    \n",
    "\n",
    "def common_handler(obj1, obj2):\n",
    "    print(f\"Length of obj1: {len(obj1)}\")\n",
    "    print(f\"String of obj2: {str(obj2)}\")\n",
    "    print(f\"Are obj1 and obj2 equal? : {obj1 == obj2}\")\n",
    "\n",
    "\n",
    "s_one = s1(('roman', 'british', 'french'))\n",
    "s_two = s2(('roman', 'british', 'french'))\n",
    "\n",
    "common_handler(s_one, s_two)\n",
    "\n",
    "\n"
   ]
  },
  {
   "cell_type": "code",
   "execution_count": null,
   "id": "775ab841",
   "metadata": {},
   "outputs": [
    {
     "data": {
      "text/plain": [
       "<__main__.HTML at 0x184b47e4590>"
      ]
     },
     "execution_count": 53,
     "metadata": {},
     "output_type": "execute_result"
    }
   ],
   "source": [
    "#39. Build a Renderer class that accepts objects with render() method (e.g., PDF, HTML).\n",
    "\n",
    "class Renderer:\n",
    "    def __init__(self,obj):\n",
    "        self.obj = obj\n",
    "\n",
    "    def render(self):\n",
    "        return self.obj\n",
    "    \n",
    "\n",
    "class PDF:\n",
    "    def render(self):\n",
    "        return \"provides the pdf as output\"\n",
    "    \n",
    "class HTML:\n",
    "    def render(self):\n",
    "        return \"provides the html as output\"\n",
    "    \n",
    "pdf = PDF()\n",
    "html = HTML()\n",
    "\n",
    "r = Renderer(pdf)\n",
    "r.render()\n",
    "r = Renderer(html)\n",
    "r.render()\n"
   ]
  },
  {
   "cell_type": "code",
   "execution_count": null,
   "id": "68fcb4a4",
   "metadata": {},
   "outputs": [
    {
     "data": {
      "text/plain": [
       "'the new message from the logger'"
      ]
     },
     "execution_count": 59,
     "metadata": {},
     "output_type": "execute_result"
    }
   ],
   "source": [
    "#40. Demonstrate duck typing with EuronLogger that logs anything with a .log() method.\n",
    "\n",
    "class EuronLogger:\n",
    "    def log(self, obj):\n",
    "        return obj.log()\n",
    "    \n",
    "class newlogger:\n",
    "    def log(self):\n",
    "        return \"the new message from the logger\"\n",
    "     \n",
    "\n",
    "n = newlogger()\n",
    "e = EuronLogger()\n",
    "e.log(n)\n",
    " "
   ]
  },
  {
   "cell_type": "code",
   "execution_count": null,
   "id": "376f26a7",
   "metadata": {},
   "outputs": [
    {
     "data": {
      "text/plain": [
       "'teachers are supposed to teach'"
      ]
     },
     "execution_count": 77,
     "metadata": {},
     "output_type": "execute_result"
    }
   ],
   "source": [
    "#41. Implement a polymorphic function that handles both Student and Teacher without inheritance. \n",
    "\n",
    "class Student:\n",
    "    def study(self):\n",
    "        return \"students are supposed to study\"\n",
    "    \n",
    "class Teacher:\n",
    "    def teach(self):\n",
    "     return \"teachers are supposed to teach\"\n",
    "class School:\n",
    "   def __init__(self,obj):\n",
    "      self.obj = obj\n",
    "\n",
    "   def contains(self):\n",
    "      if hasattr(self.obj, 'study'):\n",
    "       return self.obj.study()\n",
    "      elif hasattr(self.obj, 'teach'):\n",
    "       return self.obj.teach()\n",
    "      else:\n",
    "       return \"Unsupported role\"\n",
    "     \n",
    "   \n",
    "  \n",
    "s = Student()\n",
    "t = Teacher()\n",
    "sc=School(t)\n",
    "sc.contains()\n"
   ]
  },
  {
   "cell_type": "code",
   "execution_count": null,
   "id": "9b400089",
   "metadata": {},
   "outputs": [
    {
     "name": "stdout",
     "output_type": "stream",
     "text": [
      "['students are supposed to study', 'teachers are supposed to teach']\n"
     ]
    }
   ],
   "source": [
    "#42. Pass a list of mixed objects (from different classes) and call the same method in a loop.\n",
    "\n",
    "class Student:\n",
    "    def study(self):\n",
    "        return \"students are supposed to study\"\n",
    "    \n",
    "class Teacher:\n",
    "    def teach(self):\n",
    "     return \"teachers are supposed to teach\"\n",
    "class School:\n",
    "   def __init__(self,obj:list):\n",
    "      self.obj = obj\n",
    "\n",
    "   def contains(self):\n",
    "      results = []\n",
    "      for i in self.obj:\n",
    "         if hasattr(i, 'study'):\n",
    "          results.append(i.study())\n",
    "         elif hasattr(i, 'teach'):\n",
    "          results.append(i.teach())\n",
    "         else:\n",
    "          results.append(\"Unsupported role\")\n",
    "      return results\n",
    "      \n",
    "s = Student()\n",
    "t = Teacher()\n",
    "sc=School([s,t])\n",
    "print(sc.contains())"
   ]
  }
 ],
 "metadata": {
  "kernelspec": {
   "display_name": "Python 3",
   "language": "python",
   "name": "python3"
  },
  "language_info": {
   "codemirror_mode": {
    "name": "ipython",
    "version": 3
   },
   "file_extension": ".py",
   "mimetype": "text/x-python",
   "name": "python",
   "nbconvert_exporter": "python",
   "pygments_lexer": "ipython3",
   "version": "3.13.2"
  }
 },
 "nbformat": 4,
 "nbformat_minor": 5
}
