{
 "cells": [
  {
   "cell_type": "code",
   "execution_count": 1,
   "id": "cffba47a",
   "metadata": {},
   "outputs": [],
   "source": [
    "#json(java string object nottaion)\n",
    "#inorder to use json data we need to import json\n",
    "\n",
    "import json"
   ]
  },
  {
   "cell_type": "code",
   "execution_count": 2,
   "id": "c80de117",
   "metadata": {},
   "outputs": [
    {
     "name": "stdout",
     "output_type": "stream",
     "text": [
      "{'employees': [{'name': 'Alice', 'age': 30}, {'name': 'Bob', 'age': 25}]}\n"
     ]
    }
   ],
   "source": [
    "with open('data.json','r') as f:\n",
    "    data = json.load(f)\n",
    "    print(data)"
   ]
  },
  {
   "cell_type": "code",
   "execution_count": 3,
   "id": "d88982de",
   "metadata": {},
   "outputs": [
    {
     "name": "stdout",
     "output_type": "stream",
     "text": [
      "Alice 30\n",
      "Bob 25\n"
     ]
    }
   ],
   "source": [
    "#o access only name and age \n",
    "#let us check how can we do that\n",
    "\n",
    "with open('data.json','r') as f:\n",
    "    data = json.load(f)\n",
    "    for i in data['employees']:\n",
    "        print(i['name'],i['age'])\n"
   ]
  },
  {
   "cell_type": "code",
   "execution_count": 4,
   "id": "56ecbb6a",
   "metadata": {},
   "outputs": [],
   "source": [
    "#let us check how can we write data into json\n",
    "\n",
    "data = {\n",
    "    \"employees\": [\n",
    "        {\"name\": \"Alice\", \"age\":30},\n",
    "        {\"name\": \"Bob\", \"age\":25}\n",
    "    ]\n",
    "}"
   ]
  },
  {
   "cell_type": "code",
   "execution_count": 5,
   "id": "c019c4b9",
   "metadata": {},
   "outputs": [],
   "source": [
    "with open('dataoutput.json', 'w') as f:\n",
    "    json.dump(data,f)"
   ]
  },
  {
   "cell_type": "code",
   "execution_count": null,
   "id": "a3850149",
   "metadata": {},
   "outputs": [],
   "source": []
  }
 ],
 "metadata": {
  "kernelspec": {
   "display_name": "Python 3",
   "language": "python",
   "name": "python3"
  },
  "language_info": {
   "codemirror_mode": {
    "name": "ipython",
    "version": 3
   },
   "file_extension": ".py",
   "mimetype": "text/x-python",
   "name": "python",
   "nbconvert_exporter": "python",
   "pygments_lexer": "ipython3",
   "version": "3.13.2"
  }
 },
 "nbformat": 4,
 "nbformat_minor": 5
}
