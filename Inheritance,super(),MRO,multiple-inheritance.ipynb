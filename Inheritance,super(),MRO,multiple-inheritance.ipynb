{
 "cells": [
  {
   "cell_type": "code",
   "execution_count": 2,
   "id": "585a73d4",
   "metadata": {},
   "outputs": [],
   "source": [
    "#now we are going to discuss on important concept known as inheritance\n",
    "#inheritance is nothing but acquiring the properties of one class to another \n",
    "#how the inheritance works in python let us see in below example\n",
    "\n",
    "class Mentor:\n",
    "    def __init__(self,name):\n",
    "        self.name = name\n",
    "\n",
    "    def show(self):\n",
    "        print(f'mentor {self.name}')"
   ]
  },
  {
   "cell_type": "code",
   "execution_count": 3,
   "id": "8a8bf71b",
   "metadata": {},
   "outputs": [
    {
     "ename": "TypeError",
     "evalue": "Mentor.__init__() missing 1 required positional argument: 'name'",
     "output_type": "error",
     "traceback": [
      "\u001b[31m---------------------------------------------------------------------------\u001b[39m",
      "\u001b[31mTypeError\u001b[39m                                 Traceback (most recent call last)",
      "\u001b[36mCell\u001b[39m\u001b[36m \u001b[39m\u001b[32mIn[3]\u001b[39m\u001b[32m, line 10\u001b[39m\n\u001b[32m      6\u001b[39m     \u001b[38;5;28;01mpass\u001b[39;00m\n\u001b[32m      8\u001b[39m \u001b[38;5;66;03m#in this euronmentoe class we have passed Mentor class as an argument this is the format used for inheritance now how it is going to work\u001b[39;00m\n\u001b[32m      9\u001b[39m \u001b[38;5;66;03m#now let us check with below example\u001b[39;00m\n\u001b[32m---> \u001b[39m\u001b[32m10\u001b[39m e = \u001b[43mEuronMentor\u001b[49m\u001b[43m(\u001b[49m\u001b[43m)\u001b[49m\n",
      "\u001b[31mTypeError\u001b[39m: Mentor.__init__() missing 1 required positional argument: 'name'"
     ]
    }
   ],
   "source": [
    "#now carefully note that we have created a mentr class and we didnt initiated or used it\n",
    "#now we are going to access everything from mentor class from another class with the help of inheritance \n",
    "#let us check on this\n",
    "\n",
    "class EuronMentor(Mentor):\n",
    "    pass\n",
    "\n",
    "#in this euronmentoe class we have passed Mentor class as an argument this is the format used for inheritance now how it is going to work\n",
    "#now let us check with below example\n",
    "e = EuronMentor()"
   ]
  },
  {
   "cell_type": "code",
   "execution_count": 6,
   "id": "0d08f412",
   "metadata": {},
   "outputs": [
    {
     "name": "stdout",
     "output_type": "stream",
     "text": [
      "mentor Bhattacharya\n"
     ]
    }
   ],
   "source": [
    "# see in the above example we didnt provided any implementaion of euronmentor but still it is asking for argument name\n",
    "#which is mentioned in mentor class\n",
    "#it is due to the powerful concept known as inheritance\n",
    "\n",
    "e = EuronMentor('Bhattacharya')\n",
    "\n",
    "e.name\n",
    "\n",
    "e.show()"
   ]
  },
  {
   "cell_type": "code",
   "execution_count": 7,
   "id": "48113cb8",
   "metadata": {},
   "outputs": [],
   "source": [
    "#now in the previous example we have seen the child class euronmentor without any implementation\n",
    "#now will add some implementation to euron mentor and see how it goes\n",
    "\n",
    "class Mentor:\n",
    "    def __init__(self,name):\n",
    "        self.name = name\n",
    "\n",
    "    def show(self):\n",
    "        print(f'mentor {self.name}')\n",
    "\n"
   ]
  },
  {
   "cell_type": "code",
   "execution_count": 12,
   "id": "44a39080",
   "metadata": {},
   "outputs": [],
   "source": [
    "class EuronMentor(Mentor):\n",
    "    def assign_cousrse(self,course):\n",
    "        print(f'{self.name},{course}')"
   ]
  },
  {
   "cell_type": "code",
   "execution_count": 14,
   "id": "c813a8ed",
   "metadata": {},
   "outputs": [
    {
     "name": "stdout",
     "output_type": "stream",
     "text": [
      "bhattacharya,python\n",
      "mentor bhattacharya\n"
     ]
    }
   ],
   "source": [
    "eu = EuronMentor('bhattacharya')\n",
    "\n",
    "eu.assign_cousrse('python')\n",
    "eu.show()\n",
    "\n",
    "#now in these example we can able to see that along with parent properties we can add child class functionalities as well\n"
   ]
  },
  {
   "cell_type": "code",
   "execution_count": 16,
   "id": "523a9bad",
   "metadata": {},
   "outputs": [],
   "source": [
    "#now let us check if both parent and child classes both have same methods and when we try to call child object \n",
    "#which is going to be printed\n",
    "\n",
    "class mentor:\n",
    "    def intro(self):\n",
    "        print('my name is bhattacharya')"
   ]
  },
  {
   "cell_type": "code",
   "execution_count": 19,
   "id": "fa06eb4f",
   "metadata": {},
   "outputs": [
    {
     "name": "stdout",
     "output_type": "stream",
     "text": [
      "this is a new mentor for the session\n"
     ]
    }
   ],
   "source": [
    "class EuronMentor(mentor):\n",
    "    def intro(self):\n",
    "        print('this is a new mentor for the session')\n",
    "\n",
    "eu = EuronMentor()\n",
    "eu.intro()\n",
    "\n",
    "#now see here in this example we can able to see we got an output from the child class \n",
    "#eventhough we have inherited the parent class this concept is known as inheritance"
   ]
  },
  {
   "cell_type": "code",
   "execution_count": 20,
   "id": "1984b496",
   "metadata": {},
   "outputs": [],
   "source": [
    "#now let us see another example if the both parent and child classes are same but if we want execute something\n",
    "#with respect to parent as well when we are calling the child class\n",
    "#let us see how we can do that\n",
    "#super() which is used to call something related to parent class when it is inherited\n",
    "\n",
    "class mentor:\n",
    "    def intro(self):\n",
    "        print('my name is bhattacharya')\n"
   ]
  },
  {
   "cell_type": "code",
   "execution_count": null,
   "id": "45731b2f",
   "metadata": {},
   "outputs": [
    {
     "name": "stdout",
     "output_type": "stream",
     "text": [
      "my name is bhattacharya\n",
      "this is a new mentor for the session\n"
     ]
    }
   ],
   "source": [
    "class EuronMentor(mentor):\n",
    "    def intro(self):\n",
    "        super().intro()\n",
    "        print('this is a new mentor for the session')\n",
    "\n",
    "eu = EuronMentor()\n",
    "eu.intro()\n",
    "\n",
    "#now see here in this example we can able to access parent class output as well as child with the help of super()\n",
    "#so with the  help of super method even though it is overriden we can able to invoke parent class functionality"
   ]
  },
  {
   "cell_type": "code",
   "execution_count": 1,
   "id": "a0a124ad",
   "metadata": {},
   "outputs": [],
   "source": [
    "# now let us see how to use super() with constructor i.e with __init__ method\n",
    "\n",
    "class course:\n",
    "    def __init__(self,title):\n",
    "        self.title = title\n",
    "        print(f'{self.title}')"
   ]
  },
  {
   "cell_type": "code",
   "execution_count": 10,
   "id": "05005232",
   "metadata": {},
   "outputs": [],
   "source": [
    "class euronCourse(course):\n",
    "    def __init__(self,title,mentor):\n",
    "        super().__init__(title = title)\n",
    "        self.mentor = mentor\n",
    "        print(f'{self.title}, {self.mentor}')"
   ]
  },
  {
   "cell_type": "code",
   "execution_count": 12,
   "id": "ddbcc1ef",
   "metadata": {},
   "outputs": [
    {
     "name": "stdout",
     "output_type": "stream",
     "text": [
      "python\n",
      "python, Agarwal\n"
     ]
    }
   ],
   "source": [
    "eu = euronCourse('python', 'Agarwal')"
   ]
  },
  {
   "cell_type": "code",
   "execution_count": 1,
   "id": "80dc1d13",
   "metadata": {},
   "outputs": [
    {
     "name": "stdout",
     "output_type": "stream",
     "text": [
      "this will display couse content\n",
      "this will provide course detail specifically\n",
      "this will provide list of courses\n"
     ]
    },
    {
     "data": {
      "text/plain": [
       "[__main__.dsa, __main__.course, __main__.platform, object]"
      ]
     },
     "execution_count": 1,
     "metadata": {},
     "output_type": "execute_result"
    }
   ],
   "source": [
    "#multi-level inheritance\n",
    "\n",
    "class platform:\n",
    "    def show(self):\n",
    "        print(\"this will provide list of courses\")\n",
    "\n",
    "class course(platform):\n",
    "    def course_detail(self):\n",
    "        print(\"this will provide course detail specifically\")\n",
    "\n",
    "class dsa(course):\n",
    "    def dispaly(self):\n",
    "        print(\"this will display couse content\")\n",
    "\n",
    "# now when we create a object of dsa we can able to access all the methds of couse class and platform class\n",
    "#with the help of multi-level interitance i.e, platform is parent of course and it is parent of dsa \n",
    "#so with dsa object we can able to access all the methods from parent class\n",
    "\n",
    "ds = dsa()\n",
    "ds.dispaly()\n",
    "ds.course_detail()\n",
    "ds.show()\n",
    "dsa.mro()"
   ]
  },
  {
   "cell_type": "code",
   "execution_count": 18,
   "id": "997fde99",
   "metadata": {},
   "outputs": [
    {
     "name": "stdout",
     "output_type": "stream",
     "text": [
      "this is syllabus we provide\n",
      "this is my system design\n"
     ]
    }
   ],
   "source": [
    "#multiple-inheritence\n",
    "\n",
    "class design:\n",
    "    def ui(self):\n",
    "        print(\"this is my system design\")\n",
    "\n",
    "class curriculum:\n",
    "    def syllabus(self):\n",
    "        print(\"this is syllabus we provide\")\n",
    "\n",
    "class euronplus(design,curriculum):\n",
    "    pass\n",
    "\n",
    "# now when we create the euronplus object we can access both the methods of syllabus and design class\n",
    "\n",
    "eu = euronplus()\n",
    "\n",
    "eu.syllabus()\n",
    "eu.ui()\n",
    "\n"
   ]
  },
  {
   "cell_type": "code",
   "execution_count": null,
   "id": "f5038e4d",
   "metadata": {},
   "outputs": [
    {
     "data": {
      "text/plain": [
       "[__main__.euronplus, __main__.design, __main__.curriculum, object]"
      ]
     },
     "execution_count": 20,
     "metadata": {},
     "output_type": "execute_result"
    }
   ],
   "source": [
    "euronplus.mro()\n",
    "#mro(method-resolution-order)\n",
    "#mro will always tells us when we create an object which involves in inheritance what is the priority of each class\n",
    "#i.e, which defines which one will be called first and which one will be called second like that"
   ]
  }
 ],
 "metadata": {
  "kernelspec": {
   "display_name": "Python 3",
   "language": "python",
   "name": "python3"
  },
  "language_info": {
   "codemirror_mode": {
    "name": "ipython",
    "version": 3
   },
   "file_extension": ".py",
   "mimetype": "text/x-python",
   "name": "python",
   "nbconvert_exporter": "python",
   "pygments_lexer": "ipython3",
   "version": "3.13.2"
  }
 },
 "nbformat": 4,
 "nbformat_minor": 5
}
