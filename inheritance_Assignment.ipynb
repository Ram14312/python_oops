{
 "cells": [
  {
   "cell_type": "code",
   "execution_count": 5,
   "id": "d5b83ed1",
   "metadata": {},
   "outputs": [
    {
     "name": "stdout",
     "output_type": "stream",
     "text": [
      "the counter will increment its count\n"
     ]
    }
   ],
   "source": [
    "# Instance, Class, and Static Methods \n",
    "#14. Create a Counter class with: \n",
    "#o instance variable count \n",
    "#o class variable total_counters \n",
    "#o static method to describe what a counter is. \n",
    "\n",
    "class Counter:\n",
    "    total_counters = 0\n",
    "\n",
    "    def __init__(self):\n",
    "      self.count = 0\n",
    "      Counter.total_counters +=1\n",
    "\n",
    "\n",
    "    @staticmethod\n",
    "    def  counter_detail():\n",
    "        print('the counter will increment its count')\n",
    "\n",
    "\n",
    "c = Counter()\n",
    "\n",
    "c.counter_detail()"
   ]
  },
  {
   "cell_type": "code",
   "execution_count": 12,
   "id": "bd63846e",
   "metadata": {},
   "outputs": [
    {
     "data": {
      "text/plain": [
       "<__main__.User at 0x14e157d1e50>"
      ]
     },
     "execution_count": 12,
     "metadata": {},
     "output_type": "execute_result"
    }
   ],
   "source": [
    "#15. Use @classmethod to create a user using birth year.\n",
    "\n",
    "class User:\n",
    "    def __init__(self, birthyear,username, user_email_id ):\n",
    "        self.birthyear = birthyear\n",
    "        self.username = username\n",
    "        self.user_mail_id = user_email_id\n",
    "\n",
    "\n",
    "    @classmethod\n",
    "    def createUser(cls,birthYear, username, user_email_id ):\n",
    "        return cls(birthYear, username, user_email_id)\n",
    "\n",
    "\n",
    "u = User(2000,'ram', 'ramachandark436@gmail.com')\n",
    "u.createUser(2000,'ram', 'ramachandark436@gmail.com')\n"
   ]
  },
  {
   "cell_type": "code",
   "execution_count": null,
   "metadata": {},
   "outputs": [
    {
     "data": {
      "text/plain": [
       "80.6"
      ]
     },
     "execution_count": 8,
     "metadata": {},
     "output_type": "execute_result"
    }
   ],
   "source": [
    "#16. Create a Temperature class with a static method to convert Celsius to Fahrenheit. \n",
    "\n",
    "class Temparature:\n",
    "\n",
    "    def __init__(self):\n",
    "        pass\n",
    "\n",
    "    @staticmethod\n",
    "    def convertTemperature( temperature):\n",
    "        farenheit = temperature *1.8 +32\n",
    "        return farenheit\n",
    "    \n",
    "t = Temparature()\n",
    "t.convertTemperature(27)\n"
   ]
  },
  {
   "cell_type": "code",
   "execution_count": 22,
   "id": "2f8e359a",
   "metadata": {},
   "outputs": [
    {
     "name": "stdout",
     "output_type": "stream",
     "text": [
      "4\n"
     ]
    }
   ],
   "source": [
    "#17. Build a User class to track number of users using class method.\n",
    "\n",
    "class User:\n",
    "    user_count = 0\n",
    "    def __init__(self, username, mail_id):\n",
    "        self.username = username\n",
    "        self.mail_id = mail_id\n",
    "        User.user_count += 1\n",
    "\n",
    "    @classmethod\n",
    "    def createUser(cls,username, mail_id):\n",
    "        return cls(username, mail_id)\n",
    "    \n",
    "u = User('ram', 'ramachandark436@gmail.com')\n",
    "u.createUser('ram', 'ramachandark436@gmail.com')\n",
    "u.createUser('remo', 'remok436@gmail.com')\n",
    "u.createUser('rambo', 'rambok436@gmail.com')\n",
    "print(User.user_count)\n"
   ]
  },
  {
   "cell_type": "code",
   "execution_count": null,
   "metadata": {},
   "outputs": [
    {
     "name": "stdout",
     "output_type": "stream",
     "text": [
      "the employee name is ram and age is 25\n"
     ]
    }
   ],
   "source": [
    "# Inheritance, super(), MRO \n",
    "#18. Create a base class Person and derive Employee from it. \n",
    "\n",
    "class Person:\n",
    "    def __init__(self, name, age):\n",
    "        self.name = name\n",
    "        self.age = age\n",
    "         \n",
    "\n",
    "class Employee(Person):\n",
    "     def employee_details(self):\n",
    "        print(f'the employee name is {self.name} and age is {self.age}')  \n",
    "     \n",
    "e = Employee('ram', 25)\n",
    "e.employee_details()\n",
    "  "
   ]
  },
  {
   "cell_type": "code",
   "execution_count": null,
   "id": "1b49d485",
   "metadata": {},
   "outputs": [
    {
     "name": "stdout",
     "output_type": "stream",
     "text": [
      "the persons name is ram and age is 25\n",
      "the employee name is remo and employee age is 26\n"
     ]
    }
   ],
   "source": [
    "#19. Add a constructor in Employee using super() to call base constructor. \n",
    "\n",
    "class Person:\n",
    "    def __init__(self):\n",
    "     print(f'the persons name is ram and age is 25')\n",
    "\n",
    "\n",
    "class Employee(Person):\n",
    "    def __init__(self):\n",
    "        super().__init__()\n",
    "        print(f'the employee name is remo and employee age is 26')\n",
    "\n",
    "e = Employee()   \n",
    "     \n"
   ]
  },
  {
   "cell_type": "code",
   "execution_count": 62,
   "id": "64bf42d4",
   "metadata": {},
   "outputs": [
    {
     "name": "stdout",
     "output_type": "stream",
     "text": [
      "contains person details\n",
      "contains employee details\n"
     ]
    },
    {
     "data": {
      "text/plain": [
       "[__main__.Employee, __main__.Person, object]"
      ]
     },
     "execution_count": 62,
     "metadata": {},
     "output_type": "execute_result"
    }
   ],
   "source": [
    "#20. Add a method in both Person and Employee to understand MRO.\n",
    "\n",
    "class Person:\n",
    "    def __init__(self):\n",
    "        print('contains person details')\n",
    "\n",
    "    def show(self):\n",
    "        print('person can do anything for living')\n",
    "\n",
    "class Employee(Person):\n",
    "    def __init__(self):\n",
    "        super().__init__()\n",
    "        print('contains employee details')\n",
    "\n",
    "    def show(self):\n",
    "        print('employee can do anything for his role')\n",
    "\n",
    "\n",
    "e = Employee()\n",
    "\n",
    "Employee.mro()"
   ]
  },
  {
   "cell_type": "code",
   "execution_count": 2,
   "id": "ed5211cb",
   "metadata": {},
   "outputs": [
    {
     "name": "stdout",
     "output_type": "stream",
     "text": [
      "i can able to run and bark\n"
     ]
    }
   ],
   "source": [
    "#21. Create Animal → Dog hierarchy and override a method.\n",
    "\n",
    "class Animal:\n",
    "    def canWalk(self):\n",
    "        print('i can able to walk')\n",
    "\n",
    "class Dog(Animal):\n",
    "    def canWalk(self):\n",
    "        print('i can able to run and bark')\n",
    "\n",
    "d = Dog()\n",
    "d.canWalk()"
   ]
  },
  {
   "cell_type": "code",
   "execution_count": 18,
   "id": "40d3befa",
   "metadata": {},
   "outputs": [
    {
     "name": "stdout",
     "output_type": "stream",
     "text": [
      "the smatphone model is VIVO15-NARZO with camera pxel 50 mega pixel clarity\n"
     ]
    }
   ],
   "source": [
    "\n",
    "#Multiple Inheritance \n",
    "\n",
    "#22. Build a SmartPhone class from Phone and Camera. \n",
    "\n",
    "class Phone:\n",
    "    def __init__(self, model):\n",
    "        self.model = model\n",
    "\n",
    "class Camera:\n",
    "    def __init__(self,pixel):\n",
    "        self.pixel = pixel\n",
    "\n",
    "\n",
    "class SmartPhone(Phone, Camera):\n",
    "    def __init__(self,model,pixel):\n",
    "        Phone.__init__(self,model=model)\n",
    "        Camera.__init__(self,pixel = pixel)\n",
    "        print(f'the smatphone model is {model} with camera pxel {pixel} mega pixel clarity')\n",
    "         \n",
    "\n",
    "s = SmartPhone('VIVO15-NARZO','50')\n",
    "  \n",
    " "
   ]
  },
  {
   "cell_type": "code",
   "execution_count": null,
   "id": "c2754539",
   "metadata": {},
   "outputs": [
    {
     "name": "stdout",
     "output_type": "stream",
     "text": [
      "i am a petrol car\n",
      "this is a combination of electric and petrol\n",
      "i am an electric car\n"
     ]
    },
    {
     "data": {
      "text/plain": [
       "[__main__.DieselCar,\n",
       " __main__.petrolCar,\n",
       " __main__.HybridCar,\n",
       " __main__.ElectricCar,\n",
       " object]"
      ]
     },
     "execution_count": 33,
     "metadata": {},
     "output_type": "execute_result"
    }
   ],
   "source": [
    "#23. Demonstrate MRO in a diamond inheritance problem. \n",
    "\n",
    "class ElectricCar:\n",
    "    def __init__(self):\n",
    "        print(\"i am an electric car\")\n",
    "        super().__init__()\n",
    "\n",
    "class petrolCar(ElectricCar):\n",
    "   def __init__(self):\n",
    "        print(\"i am a petrol car\")\n",
    "        super().__init__()\n",
    "\n",
    "class HybridCar(ElectricCar):\n",
    "    def __init__(self):\n",
    "         print('this is a combination of electric and petrol')\n",
    "         super().__init__()\n",
    "\n",
    "class DieselCar(petrolCar, HybridCar):\n",
    "    def __init__(self):\n",
    "        super().__init__()\n",
    "\n",
    "d = DieselCar()\n",
    "DieselCar.mro()\n",
    "\n",
    "#What is the diamond problem?\n",
    "'''Class B and class C both inherit from class A.\n",
    "\n",
    "Class D inherits from both B and C.\n",
    "\n",
    "If class A defines a method, and both B and C override it differently, the question arises: Which version should D inherit when the method is called on an instance of D?\n",
    "\n",
    "Without a clear rule, this ambiguity causes the diamond problem.\n",
    "\n",
    "How Python solves it: Method Resolution Order (MRO)\n",
    "Python uses a consistent linearization algorithm called C3 linearization to determine the order in which methods and attributes are resolved through the inheritance hierarchy. This order is called the Method Resolution Order (MRO).\n",
    "The MRO ensures:\n",
    "\n",
    "Each class appears only once in the resolution order.\n",
    "\n",
    "The order respects the linearization of the parents.\n",
    "\n",
    "The left-most class (first in the inheritance list) has the highest priority.'''"
   ]
  },
  {
   "cell_type": "code",
   "execution_count": 21,
   "id": "5d457180",
   "metadata": {},
   "outputs": [
    {
     "name": "stdout",
     "output_type": "stream",
     "text": [
      "i am an electric car\n",
      "i am a petrol car\n",
      "the hybrid car is made up of electric and petrol\n"
     ]
    }
   ],
   "source": [
    "#24. Create a HybridCar from ElectricCar and PetrolCar and test method resolution.\n",
    "\n",
    "class ElectricCar:\n",
    "    def __init__(self):\n",
    "        print(\"i am an electric car\")\n",
    "\n",
    "class petrolCar:\n",
    "   def __init__(self):\n",
    "        print(\"i am a petrol car\")\n",
    "\n",
    "class HybridCar(ElectricCar,petrolCar):\n",
    "    def __init__(self):\n",
    "        ElectricCar.__init__(self)\n",
    "        petrolCar.__init__(self)\n",
    "\n",
    "    def test(self):\n",
    "        print('the hybrid car is made up of electric and petrol')\n",
    "\n",
    "\n",
    "h = HybridCar()\n",
    "h.test()"
   ]
  },
  {
   "cell_type": "code",
   "execution_count": 30,
   "id": "45c79ec5",
   "metadata": {},
   "outputs": [
    {
     "name": "stdout",
     "output_type": "stream",
     "text": [
      "i am an electric car\n",
      "i am a petrol car\n",
      "the hybrid car is made up of electric and petrol\n"
     ]
    },
    {
     "data": {
      "text/plain": [
       "[__main__.HybridCar, __main__.petrolCar, __main__.ElectricCar, object]"
      ]
     },
     "execution_count": 30,
     "metadata": {},
     "output_type": "execute_result"
    }
   ],
   "source": [
    "#25. Add constructors in all parent classes and use super() properly.\n",
    "\n",
    "class ElectricCar:\n",
    "    def __init__(self):\n",
    "        print(\"i am an electric car\")\n",
    "\n",
    "class petrolCar(ElectricCar):\n",
    "   def __init__(self):\n",
    "        super().__init__()\n",
    "        print(\"i am a petrol car\")\n",
    "\n",
    "class HybridCar(petrolCar):\n",
    "    def __init__(self):\n",
    "        super().__init__()\n",
    "\n",
    "    def test(self):\n",
    "        print('the hybrid car is made up of electric and petrol')\n",
    "\n",
    "h = HybridCar()\n",
    "h.test()\n",
    "HybridCar.mro()\n"
   ]
  }
 ],
 "metadata": {
  "kernelspec": {
   "display_name": "Python 3",
   "language": "python",
   "name": "python3"
  },
  "language_info": {
   "codemirror_mode": {
    "name": "ipython",
    "version": 3
   },
   "file_extension": ".py",
   "mimetype": "text/x-python",
   "name": "python",
   "nbconvert_exporter": "python",
   "pygments_lexer": "ipython3",
   "version": "3.13.2"
  }
 },
 "nbformat": 4,
 "nbformat_minor": 5
}
