{
 "cells": [
  {
   "cell_type": "code",
   "execution_count": 1,
   "id": "6d32312f",
   "metadata": {},
   "outputs": [],
   "source": [
    "#usually when we open up a file in different modes for example if we open with write mode\n",
    "#after writing some data into the file then we need to close the file inorder to see the data\n",
    "#but is there a solution for this without closing can we able to view the data \n",
    "#yes ofcourse we can able to do it with the help of file context manager concept\n",
    "\n",
    "f = open('text6.txt','w')"
   ]
  },
  {
   "cell_type": "code",
   "execution_count": 2,
   "metadata": {},
   "outputs": [
    {
     "data": {
      "text/plain": [
       "24"
      ]
     },
     "execution_count": 2,
     "metadata": {},
     "output_type": "execute_result"
    }
   ],
   "source": [
    "f.write('i am writing newly today')"
   ]
  },
  {
   "cell_type": "code",
   "execution_count": null,
   "id": "bc1e55d0",
   "metadata": {},
   "outputs": [],
   "source": [
    "f.close()\n",
    "#instead of this we can follow below approach"
   ]
  },
  {
   "cell_type": "code",
   "execution_count": null,
   "id": "63556d12",
   "metadata": {},
   "outputs": [],
   "source": [
    "with open('text6.txt', 'w') as f:\n",
    "    f.write('i have wrote')\n",
    "\n",
    "#now open the file and check the new data exists"
   ]
  },
  {
   "cell_type": "code",
   "execution_count": 5,
   "metadata": {},
   "outputs": [
    {
     "name": "stdout",
     "output_type": "stream",
     "text": [
      "i have wrote\n"
     ]
    }
   ],
   "source": [
    "#with file context manager we can able to print read data instead of directly calling read()\n",
    "\n",
    "with open('text6.txt', 'r') as f:\n",
    "    print(f.read())"
   ]
  },
  {
   "cell_type": "code",
   "execution_count": null,
   "id": "c2fa7d1c",
   "metadata": {},
   "outputs": [],
   "source": [
    "# we can perform all other operations but syntax is chnagesa as with "
   ]
  },
  {
   "cell_type": "code",
   "execution_count": null,
   "metadata": {},
   "outputs": [],
   "source": []
  },
  {
   "cell_type": "code",
   "execution_count": null,
   "id": "093397fb",
   "metadata": {},
   "outputs": [],
   "source": []
  },
  {
   "cell_type": "code",
   "execution_count": null,
   "metadata": {},
   "outputs": [],
   "source": []
  },
  {
   "cell_type": "code",
   "execution_count": null,
   "id": "aa3cb9a5",
   "metadata": {},
   "outputs": [],
   "source": []
  },
  {
   "cell_type": "code",
   "execution_count": null,
   "id": "490cee51",
   "metadata": {},
   "outputs": [],
   "source": []
  },
  {
   "cell_type": "code",
   "execution_count": null,
   "id": "ccb3098c",
   "metadata": {},
   "outputs": [],
   "source": []
  }
 ],
 "metadata": {
  "kernelspec": {
   "display_name": "Python 3",
   "language": "python",
   "name": "python3"
  },
  "language_info": {
   "codemirror_mode": {
    "name": "ipython",
    "version": 3
   },
   "file_extension": ".py",
   "mimetype": "text/x-python",
   "name": "python",
   "nbconvert_exporter": "python",
   "pygments_lexer": "ipython3",
   "version": "3.13.2"
  }
 },
 "nbformat": 4,
 "nbformat_minor": 5
}
