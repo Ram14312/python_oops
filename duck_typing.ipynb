{
 "cells": [
  {
   "cell_type": "code",
   "execution_count": 1,
   "id": "8cf56d41",
   "metadata": {},
   "outputs": [],
   "source": [
    "#ducktyping\n",
    "#ducktyping is nothing but irrespective of type of data which we pass it will provide the output \n",
    "#for example\n",
    "\n",
    "class course:\n",
    "    def __init__(self,topics):\n",
    "        self.topics = topics\n",
    "\n",
    "    def __len__(self):\n",
    "        return len(self.topics)"
   ]
  },
  {
   "cell_type": "code",
   "execution_count": 3,
   "id": "08bf24e9",
   "metadata": {},
   "outputs": [
    {
     "data": {
      "text/plain": [
       "12"
      ]
     },
     "execution_count": 3,
     "metadata": {},
     "output_type": "execute_result"
    }
   ],
   "source": [
    "c = course('bhattacharys')\n",
    "len(c)"
   ]
  },
  {
   "cell_type": "code",
   "execution_count": 4,
   "metadata": {},
   "outputs": [
    {
     "data": {
      "text/plain": [
       "6"
      ]
     },
     "execution_count": 4,
     "metadata": {},
     "output_type": "execute_result"
    }
   ],
   "source": [
    "c1 = course([1,2,3,4,5,6])\n",
    "len(c1)"
   ]
  },
  {
   "cell_type": "code",
   "execution_count": 5,
   "id": "682c050e",
   "metadata": {},
   "outputs": [
    {
     "data": {
      "text/plain": [
       "5"
      ]
     },
     "execution_count": 5,
     "metadata": {},
     "output_type": "execute_result"
    }
   ],
   "source": [
    "c2 = course((1,2,3,4,5))\n",
    "len(c2)"
   ]
  },
  {
   "cell_type": "code",
   "execution_count": null,
   "id": "8a389dd8",
   "metadata": {},
   "outputs": [],
   "source": [
    "#so from this we can able to see that length method is accepting the data of string , list and tuple as well so it is called as duck-typing"
   ]
  }
 ],
 "metadata": {
  "kernelspec": {
   "display_name": "Python 3",
   "language": "python",
   "name": "python3"
  },
  "language_info": {
   "codemirror_mode": {
    "name": "ipython",
    "version": 3
   },
   "file_extension": ".py",
   "mimetype": "text/x-python",
   "name": "python",
   "nbconvert_exporter": "python",
   "pygments_lexer": "ipython3",
   "version": "3.13.2"
  }
 },
 "nbformat": 4,
 "nbformat_minor": 5
}
