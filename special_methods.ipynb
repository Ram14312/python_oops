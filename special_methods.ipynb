{
 "cells": [
  {
   "cell_type": "code",
   "execution_count": 4,
   "id": "12f05ad2",
   "metadata": {},
   "outputs": [
    {
     "name": "stdout",
     "output_type": "stream",
     "text": [
      "Python\n",
      "Bhattacharya\n"
     ]
    }
   ],
   "source": [
    "#now  we are going to discuss about special methods present in oops/python\n",
    "#any method which starts and ends with __ is known as special methods in python\n",
    "#__init__ method is a constructor which will ask for parameters when we creating a object\n",
    "\n",
    "class Course:\n",
    "    def __init__(self,title, mentor):\n",
    "        self.title = title\n",
    "        self.mentor = mentor\n",
    "\n",
    "c = Course('Python', 'Bhattacharya')\n",
    "\n",
    "print(c.title)\n",
    "print(c.mentor)"
   ]
  },
  {
   "cell_type": "code",
   "execution_count": null,
   "id": "7daf36f0",
   "metadata": {},
   "outputs": [
    {
     "name": "stdout",
     "output_type": "stream",
     "text": [
      "<__main__.Course object at 0x000001D0366D6120>\n"
     ]
    }
   ],
   "source": [
    "#the next special method is __str__ it is used to provide the proper info about an object for example\n",
    "\n",
    "class Course:\n",
    "    def __init__(self,title, mentor):\n",
    "        self.title = title\n",
    "        self.mentor = mentor\n",
    "\n",
    "c = Course('Python', 'Bhattacharya')\n",
    "print(c)\n",
    "\n",
    "#now in this example we can able to see that while printing the object c we are getting a hexadecimal value which is not meaning \n",
    "#now let us check how it is ging to be changed when we add __str__ special method"
   ]
  },
  {
   "cell_type": "code",
   "execution_count": null,
   "id": "c6336e4e",
   "metadata": {},
   "outputs": [
    {
     "name": "stdout",
     "output_type": "stream",
     "text": [
      "this course Python is taken by Bhattacharya \n"
     ]
    }
   ],
   "source": [
    "class Course:\n",
    "    def __init__(self,title, mentor):\n",
    "        self.title = title\n",
    "        self.mentor = mentor\n",
    "\n",
    "    def __str__(self):\n",
    "        return f'this course {self.title} is taken by {self.mentor} '\n",
    "    \n",
    "c = Course('Python', 'Bhattacharya')\n",
    "print(c) \n",
    "\n",
    "#now in the output we can able to see a proper meaningful output is provided when we print object"
   ]
  },
  {
   "cell_type": "code",
   "execution_count": null,
   "metadata": {},
   "outputs": [
    {
     "name": "stdout",
     "output_type": "stream",
     "text": [
      "True\n",
      "False\n"
     ]
    }
   ],
   "source": [
    "#now let us check another special function is __eq__\n",
    "#which is used to find equality between two objects for example\n",
    "\n",
    "class Course:\n",
    "    def __init__(self,title, mentor):\n",
    "        self.title = title\n",
    "        self.mentor = mentor\n",
    "\n",
    "    def __str__(self):\n",
    "        return f'this course {self.title} is taken by {self.mentor} '\n",
    "    \n",
    "    def __eq__(self,value):\n",
    "        return self.title == value.title\n",
    "    \n",
    "c = Course('Python', 'Bhattacharya')\n",
    "c1 = Course('Python', 'Bhattacharya')\n",
    "c2 = Course('Pythonone', 'Bhattacharya')\n",
    "print(c==c1) \n",
    "print(c1==c2)\n",
    "\n",
    "#now in the output we can able to see that True and false were printed as result of __eq__ method\n",
    "\n",
    "# how it is happened , let us take c == c1 , now python will consider self.title as one object and value.title as another object\n",
    "#so based on the comparison we will get the output as True or False\n"
   ]
  },
  {
   "cell_type": "code",
   "execution_count": null,
   "id": "c83baa4c",
   "metadata": {},
   "outputs": [
    {
     "name": "stdout",
     "output_type": "stream",
     "text": [
      "3\n",
      "12\n"
     ]
    }
   ],
   "source": [
    "#we can check another special function __len__\n",
    "\n",
    "class Course:\n",
    "    def __init__(self,title, mentor):\n",
    "        self.title = title\n",
    "        self.mentor = mentor\n",
    "\n",
    "    def __str__(self):\n",
    "        return f'this course {self.title} is taken by {self.mentor} '\n",
    "    \n",
    "    def __eq__(self,value):\n",
    "        return self.title == value.title\n",
    "    \n",
    "    def __len__(self):\n",
    "        return self.title\n",
    "        # inorder to print len(a) i.e, object we can return it as len(self.title)+ len(self.mentor) so now we can able to print len(a)\n",
    "    \n",
    "\n",
    "a = Course(['python', 'java', 'aws'], 'bhattacharya')\n",
    "\n",
    "print(len(a.title))\n",
    "print(len(a.mentor))\n",
    "\n",
    "#the length function is used find the length of provided value , with the help of len(a.title)"
   ]
  },
  {
   "cell_type": "code",
   "execution_count": 10,
   "id": "cb70b134",
   "metadata": {},
   "outputs": [],
   "source": [
    "# the next special function which we are going to see here is __del__\n",
    "\n",
    "class Course:\n",
    "    def __init__(self,title, mentor):\n",
    "        self.title = title\n",
    "        self.mentor = mentor\n",
    "\n",
    "    def __str__(self):\n",
    "        return f'this course {self.title} is taken by {self.mentor} '\n",
    "    \n",
    "    def __eq__(self,value):\n",
    "        return self.title == value.title\n",
    "    \n",
    "    def __len__(self):\n",
    "        return self.title\n",
    "    \n",
    "    def __del__(self):\n",
    "        print(\"i am going to delete an object\")\n",
    "\n"
   ]
  },
  {
   "cell_type": "code",
   "execution_count": null,
   "id": "ee10dd5e",
   "metadata": {},
   "outputs": [
    {
     "name": "stdout",
     "output_type": "stream",
     "text": [
      "this course java is taken by sachien \n"
     ]
    }
   ],
   "source": [
    "# now we can create a class varaibale\n",
    "d = Course('java', 'sachien')\n",
    "\n",
    "print(d)"
   ]
  },
  {
   "cell_type": "code",
   "execution_count": 13,
   "id": "8ecd9d4c",
   "metadata": {},
   "outputs": [
    {
     "name": "stdout",
     "output_type": "stream",
     "text": [
      "i am going to delete an object\n"
     ]
    }
   ],
   "source": [
    "# now I am going to call del function \n",
    "del d"
   ]
  },
  {
   "cell_type": "code",
   "execution_count": 15,
   "id": "5aa4c084",
   "metadata": {},
   "outputs": [
    {
     "ename": "NameError",
     "evalue": "name 'd' is not defined",
     "output_type": "error",
     "traceback": [
      "\u001b[31m---------------------------------------------------------------------------\u001b[39m",
      "\u001b[31mNameError\u001b[39m                                 Traceback (most recent call last)",
      "\u001b[36mCell\u001b[39m\u001b[36m \u001b[39m\u001b[32mIn[15]\u001b[39m\u001b[32m, line 2\u001b[39m\n\u001b[32m      1\u001b[39m \u001b[38;5;66;03m#now I am trying to call d let us see what will happen\u001b[39;00m\n\u001b[32m----> \u001b[39m\u001b[32m2\u001b[39m \u001b[43md\u001b[49m\n\u001b[32m      4\u001b[39m \u001b[38;5;66;03m#see it is throwing an error because the object is deleted\u001b[39;00m\n",
      "\u001b[31mNameError\u001b[39m: name 'd' is not defined"
     ]
    }
   ],
   "source": [
    "#now I am trying to call d let us see what will happen\n",
    "d\n",
    "\n",
    "#see it is throwing an error because the object is deleted"
   ]
  },
  {
   "cell_type": "code",
   "execution_count": 19,
   "id": "12c186a9",
   "metadata": {},
   "outputs": [
    {
     "name": "stdout",
     "output_type": "stream",
     "text": [
      "i am going to delete an object\n"
     ]
    },
    {
     "data": {
      "text/plain": [
       "'java,jackie'"
      ]
     },
     "execution_count": 19,
     "metadata": {},
     "output_type": "execute_result"
    }
   ],
   "source": [
    "# now the next special method we are going to see call__ method which enables us to call the object as a function\n",
    "# for example d is a object right , with the help of call function we can able to call it as d()\n",
    "\n",
    "class Course:\n",
    "    def __init__(self,title, mentor):\n",
    "        self.title = title\n",
    "        self.mentor = mentor\n",
    "\n",
    "    def __str__(self):\n",
    "        return f'this course {self.title} is taken by {self.mentor} '\n",
    "    \n",
    "    def __eq__(self,value):\n",
    "        return self.title == value.title\n",
    "    \n",
    "    def __len__(self):\n",
    "        return self.title\n",
    "    \n",
    "    def __del__(self):\n",
    "        print(\"i am going to delete an object\")\n",
    "\n",
    "    def __call__(self):\n",
    "        return f'{self.title},{self.mentor}'\n",
    "\n",
    "e = Course('java', 'jackie')\n",
    "\n",
    "# e is an object here we can call it as function\n",
    "\n",
    "e()\n",
    "\n"
   ]
  }
 ],
 "metadata": {
  "kernelspec": {
   "display_name": "Python 3",
   "language": "python",
   "name": "python3"
  },
  "language_info": {
   "codemirror_mode": {
    "name": "ipython",
    "version": 3
   },
   "file_extension": ".py",
   "mimetype": "text/x-python",
   "name": "python",
   "nbconvert_exporter": "python",
   "pygments_lexer": "ipython3",
   "version": "3.13.2"
  }
 },
 "nbformat": 4,
 "nbformat_minor": 5
}
